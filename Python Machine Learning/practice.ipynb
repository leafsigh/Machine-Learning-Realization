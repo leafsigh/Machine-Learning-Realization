{
 "cells": [
  {
   "cell_type": "code",
   "execution_count": 36,
   "metadata": {
    "collapsed": false
   },
   "outputs": [],
   "source": [
    "from numpy import *\n",
    "import operator"
   ]
  },
  {
   "cell_type": "code",
   "execution_count": 35,
   "metadata": {
    "collapsed": false
   },
   "outputs": [
    {
     "data": {
      "text/plain": [
       "array([[ 0.67330576,  0.97778347,  0.45480093,  0.72489115],\n",
       "       [ 0.95510959,  0.66796337,  0.96552855,  0.32348643],\n",
       "       [ 0.18250195,  0.35777204,  0.06821087,  0.25155866],\n",
       "       [ 0.46088003,  0.96109551,  0.35012795,  0.51287017]])"
      ]
     },
     "execution_count": 35,
     "metadata": {},
     "output_type": "execute_result"
    }
   ],
   "source": [
    "random.rand(4,4)"
   ]
  },
  {
   "cell_type": "code",
   "execution_count": 25,
   "metadata": {
    "collapsed": false
   },
   "outputs": [
    {
     "data": {
      "text/plain": [
       "matrix([[ 0.80195619,  0.09047778,  0.77441646,  0.38059278],\n",
       "        [ 0.44726308,  0.88913614,  0.03127534,  0.59139067],\n",
       "        [ 0.80561105,  0.9714957 ,  0.65806492,  0.1823118 ],\n",
       "        [ 0.07534626,  0.71735916,  0.04229651,  0.41219876]])"
      ]
     },
     "execution_count": 25,
     "metadata": {},
     "output_type": "execute_result"
    }
   ],
   "source": [
    "mat=np.mat(np.random.rand(4,4))\n",
    "mat"
   ]
  },
  {
   "cell_type": "code",
   "execution_count": 27,
   "metadata": {
    "collapsed": false
   },
   "outputs": [
    {
     "data": {
      "text/plain": [
       "matrix([[-0.21424679,  2.57978546,  0.36507983, -3.66492762],\n",
       "        [-0.72988483, -0.30362425,  0.82551815,  0.74441695],\n",
       "        [ 1.00563579, -2.80546788,  0.27838606,  2.97341201],\n",
       "        [ 1.20620785,  0.34471706, -1.53196766,  1.49529642]])"
      ]
     },
     "execution_count": 27,
     "metadata": {},
     "output_type": "execute_result"
    }
   ],
   "source": [
    "matinv=mat.I\n",
    "matinv"
   ]
  },
  {
   "cell_type": "code",
   "execution_count": 28,
   "metadata": {
    "collapsed": false
   },
   "outputs": [
    {
     "data": {
      "text/plain": [
       "matrix([[  1.00000000e+00,   4.30211422e-16,  -1.11022302e-16,\n",
       "           1.11022302e-16],\n",
       "        [  6.93889390e-17,   1.00000000e+00,  -2.77555756e-17,\n",
       "           2.22044605e-16],\n",
       "        [  5.55111512e-17,   2.49800181e-16,   1.00000000e+00,\n",
       "           1.11022302e-16],\n",
       "        [  1.11022302e-16,   1.38777878e-17,  -2.28983499e-16,\n",
       "           1.00000000e+00]])"
      ]
     },
     "execution_count": 28,
     "metadata": {},
     "output_type": "execute_result"
    }
   ],
   "source": [
    "mat*matinv"
   ]
  },
  {
   "cell_type": "code",
   "execution_count": 32,
   "metadata": {
    "collapsed": false
   },
   "outputs": [
    {
     "data": {
      "text/plain": [
       "array([[ 1.,  0.,  0.,  0.],\n",
       "       [ 0.,  1.,  0.,  0.],\n",
       "       [ 0.,  0.,  1.,  0.],\n",
       "       [ 0.,  0.,  0.,  1.]])"
      ]
     },
     "execution_count": 32,
     "metadata": {},
     "output_type": "execute_result"
    }
   ],
   "source": [
    "np.eye(4)"
   ]
  },
  {
   "cell_type": "code",
   "execution_count": null,
   "metadata": {
    "collapsed": true
   },
   "outputs": [],
   "source": []
  }
 ],
 "metadata": {
  "kernelspec": {
   "display_name": "Python 3",
   "language": "python",
   "name": "python3"
  },
  "language_info": {
   "codemirror_mode": {
    "name": "ipython",
    "version": 3
   },
   "file_extension": ".py",
   "mimetype": "text/x-python",
   "name": "python",
   "nbconvert_exporter": "python",
   "pygments_lexer": "ipython3",
   "version": "3.6.0"
  }
 },
 "nbformat": 4,
 "nbformat_minor": 2
}
