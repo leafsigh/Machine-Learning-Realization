{
 "cells": [
  {
   "cell_type": "code",
   "execution_count": 380,
   "metadata": {
    "collapsed": true
   },
   "outputs": [],
   "source": [
    "import math\n",
    "import operator\n",
    "import numpy as np"
   ]
  },
  {
   "cell_type": "code",
   "execution_count": 258,
   "metadata": {
    "collapsed": false
   },
   "outputs": [],
   "source": [
    "# ShannonEntrop function\n",
    "# Shannon Entropy: H(S) = sum(x=1~n):-p(x)log_2p(x)\n",
    "# p(x) is The proportion of the number of elements in class x to the number of elements in set S\n",
    "def ShannonEntropy(dataSet):\n",
    "    NumOfEntries = len(dataSet)\n",
    "    CountClass = {}\n",
    "    entropy = 0\n",
    "    for line in dataSet:\n",
    "        Class = line[-1]\n",
    "        CountClass[Class]=CountClass.get(Class,0)+1\n",
    "    for key in CountClass:\n",
    "        proportion = CountClass[key]/NumOfEntries\n",
    "        entropy = entropy - proportion * math.log(proportion,2)\n",
    "    return entropy\n",
    "\n",
    "# The ShannonEntropy function calculates the entropy of the class that needs to be predicted, which is the entropy of the last column of the dataset. "
   ]
  },
  {
   "cell_type": "code",
   "execution_count": null,
   "metadata": {
    "collapsed": true
   },
   "outputs": [],
   "source": []
  },
  {
   "cell_type": "code",
   "execution_count": 321,
   "metadata": {
    "collapsed": false
   },
   "outputs": [],
   "source": [
    "# Test ShannonEntropy():\n",
    "def createTestDataSet():\n",
    "    dataSet = [[1, 4,10,'yes'],\n",
    "               [1, 5,100,'yes'],\n",
    "               [1, 4,100,'no'],\n",
    "               [0, 4,10,'no'],\n",
    "               [0, 4,100,'yes'],\n",
    "               [1, 5,10,'yes'],\n",
    "               [0, 5,10,'no'],\n",
    "               [1, 4,10,'no'],\n",
    "              [1, 4,100,'yes'],\n",
    "              [1, 5,100,'yes'],\n",
    "              [1, 4,100,'no'],\n",
    "              [0, 5,10,'no'],\n",
    "              [0, 5,10,'no'],\n",
    "              [0, 4,100,'no'],\n",
    "              [2, 4,10,'no'],\n",
    "              [2, 4,10,'no'],\n",
    "              [0, 4,100,'yes'],\n",
    "              [2, 5,10,'yes'],\n",
    "              [2, 5,100,'no'],\n",
    "              [1, 4,10,'no'],\n",
    "              [1, 5,10,'no'],\n",
    "              [0, 5,100,'no'],\n",
    "              [1, 4,100,'yes'],\n",
    "              [0, 4,10,'no'],\n",
    "              [2, 4,100,'yes'],\n",
    "              [2, 4,10,'yes']]\n",
    "    labels = ['0~2','4&5','10&100']\n",
    "    return dataSet, labels"
   ]
  },
  {
   "cell_type": "code",
   "execution_count": 322,
   "metadata": {
    "collapsed": false
   },
   "outputs": [
    {
     "data": {
      "text/plain": [
       "[[1, 4, 10, 'yes'],\n",
       " [1, 5, 100, 'yes'],\n",
       " [1, 4, 100, 'no'],\n",
       " [0, 4, 10, 'no'],\n",
       " [0, 4, 100, 'yes'],\n",
       " [1, 5, 10, 'yes'],\n",
       " [0, 5, 10, 'no'],\n",
       " [1, 4, 10, 'no'],\n",
       " [1, 4, 100, 'yes'],\n",
       " [1, 5, 100, 'yes'],\n",
       " [1, 4, 100, 'no'],\n",
       " [0, 5, 10, 'no'],\n",
       " [0, 5, 10, 'no'],\n",
       " [0, 4, 100, 'no'],\n",
       " [2, 4, 10, 'no'],\n",
       " [2, 4, 10, 'no'],\n",
       " [0, 4, 100, 'yes'],\n",
       " [2, 5, 10, 'yes'],\n",
       " [2, 5, 100, 'no'],\n",
       " [1, 4, 10, 'no'],\n",
       " [1, 5, 10, 'no'],\n",
       " [0, 5, 100, 'no'],\n",
       " [1, 4, 100, 'yes'],\n",
       " [0, 4, 10, 'no'],\n",
       " [2, 4, 100, 'yes'],\n",
       " [2, 4, 10, 'yes']]"
      ]
     },
     "execution_count": 322,
     "metadata": {},
     "output_type": "execute_result"
    }
   ],
   "source": [
    "dat,label = createTestDataSet()\n",
    "dat"
   ]
  },
  {
   "cell_type": "code",
   "execution_count": 261,
   "metadata": {
    "collapsed": false
   },
   "outputs": [
    {
     "data": {
      "text/plain": [
       "0.9828586897127056"
      ]
     },
     "execution_count": 261,
     "metadata": {},
     "output_type": "execute_result"
    }
   ],
   "source": [
    "ShannonEntropy(dat)"
   ]
  },
  {
   "cell_type": "code",
   "execution_count": null,
   "metadata": {
    "collapsed": false
   },
   "outputs": [],
   "source": []
  },
  {
   "cell_type": "code",
   "execution_count": 262,
   "metadata": {
    "collapsed": false
   },
   "outputs": [
    {
     "data": {
      "text/plain": [
       "['af', 'df', 'e', 'rwe', 'af', 'df', 'rd', 'fd', ['rd', 'fd'], 'f', 'r', 'w']"
      ]
     },
     "execution_count": 262,
     "metadata": {},
     "output_type": "execute_result"
    }
   ],
   "source": [
    "# extend function (different form append)\n",
    "a=['af','df','e','rwe','af','df']\n",
    "a.extend(['rd','fd'])\n",
    "a.append(['rd','fd'])\n",
    "a.extend('frw')\n",
    "a"
   ]
  },
  {
   "cell_type": "code",
   "execution_count": 263,
   "metadata": {
    "collapsed": false
   },
   "outputs": [
    {
     "data": {
      "text/plain": [
       "{'af', 'df', 'e', 'rwe'}"
      ]
     },
     "execution_count": 263,
     "metadata": {},
     "output_type": "execute_result"
    }
   ],
   "source": [
    "# Set function\n",
    "a=['af','df','e','rwe','af','df']\n",
    "set(a)"
   ]
  },
  {
   "cell_type": "code",
   "execution_count": 264,
   "metadata": {
    "collapsed": false
   },
   "outputs": [],
   "source": [
    "# The SplitData function\n",
    "# For example, there are 3 classes of a data set: a/A, b/B, c/C/cCc, first 2 class has 2 features and the third has 3 features.\n",
    "# The SplitData function will create a subdata which only contains the data has one common specific feature, for example 'a', \n",
    "# and this subdata set will be used in another function (later) to find out if use 'a/A' as a split is good or bad.\n",
    "\n",
    "def SplitData(dataSet, xColumn, TheFeature):\n",
    "    Subset = []\n",
    "    for i in range(len(dataSet)):\n",
    "        if dataSet[i][xColumn]== TheFeature:\n",
    "            #Subset.append(dataSet[i])\n",
    "            SubsetVec = dataSet[i][:xColumn]\n",
    "            SubsetVec.extend(dataSet[i][xColumn+1:])\n",
    "            Subset.append(SubsetVec)\n",
    "    return Subset"
   ]
  },
  {
   "cell_type": "code",
   "execution_count": 311,
   "metadata": {
    "collapsed": false
   },
   "outputs": [
    {
     "data": {
      "text/plain": [
       "[[4, 10, 'yes'],\n",
       " [5, 100, 'yes'],\n",
       " [4, 100, 'no'],\n",
       " [5, 10, 'yes'],\n",
       " [4, 10, 'no'],\n",
       " [4, 100, 'yes'],\n",
       " [5, 100, 'yes'],\n",
       " [4, 100, 'no'],\n",
       " [4, 10, 'no'],\n",
       " [5, 10, 'no'],\n",
       " [4, 100, 'yes']]"
      ]
     },
     "execution_count": 311,
     "metadata": {},
     "output_type": "execute_result"
    }
   ],
   "source": [
    "SplitData(dat, 0,1)"
   ]
  },
  {
   "cell_type": "code",
   "execution_count": 266,
   "metadata": {
    "collapsed": false
   },
   "outputs": [],
   "source": [
    "# ChooseBestFeatureToSplit function\n",
    "# This function calculates the entropy corresponding to each feature-split, and find the one has the largest information gain\n",
    "# The IG(infromation gain) = last entropy - new entropy\n",
    "\n",
    "def ChooseBestFeatureToSplit(dataSet):\n",
    "    FeaturesInOneClass = []\n",
    "    initialEntropy = ShannonEntropy(dataSet)\n",
    "    newEntropy = 0\n",
    "    LargestIG = 0\n",
    "    BestClass = -1\n",
    "    numClass = len(dataSet[0])-1\n",
    "    for i in range(numClass):\n",
    "        FeaturesInOneClass=[line[i] for line in dataSet]\n",
    "        uniqueFeatureInOneClass = set(FeaturesInOneClass)\n",
    "        for TheFeature in uniqueFeatureInOneClass:\n",
    "            subdataset = SplitData(dataSet, i, TheFeature)\n",
    "            proportion = float(len(subdataset)/len(dataSet))\n",
    "            newEntropy = newEntropy + proportion * ShannonEntropy(subdataset)\n",
    "        IG = initialEntropy - newEntropy\n",
    "        if (IG>LargestIG):\n",
    "            LargestIG = IG\n",
    "            BestClass = i\n",
    "    return BestClass"
   ]
  },
  {
   "cell_type": "code",
   "execution_count": 267,
   "metadata": {
    "collapsed": false
   },
   "outputs": [
    {
     "data": {
      "text/plain": [
       "0"
      ]
     },
     "execution_count": 267,
     "metadata": {},
     "output_type": "execute_result"
    }
   ],
   "source": [
    "ChooseBestFeatureToSplit(dat)"
   ]
  },
  {
   "cell_type": "code",
   "execution_count": null,
   "metadata": {
    "collapsed": false
   },
   "outputs": [],
   "source": []
  },
  {
   "cell_type": "code",
   "execution_count": 268,
   "metadata": {
    "collapsed": false
   },
   "outputs": [],
   "source": [
    "def MajorityCnt(LastColumn):\n",
    "    LastColDic = {}\n",
    "    for i in LastColumn:\n",
    "        LastColDic[i] = LastColDic.get(i,0)+1\n",
    "    print(LastColDic)\n",
    "    sortedClassCount = sorted(LastColDic.items(),key=operator.itemgetter(1), reverse=True)\n",
    "    print(sortedClassCount)\n",
    "    return sortedClassCount[0][0]\n"
   ]
  },
  {
   "cell_type": "code",
   "execution_count": 269,
   "metadata": {
    "collapsed": false
   },
   "outputs": [
    {
     "name": "stdout",
     "output_type": "stream",
     "text": [
      "{'a': 5, 'A': 3, 'aA': 2}\n",
      "[('a', 5), ('A', 3), ('aA', 2)]\n"
     ]
    },
    {
     "data": {
      "text/plain": [
       "'a'"
      ]
     },
     "execution_count": 269,
     "metadata": {},
     "output_type": "execute_result"
    }
   ],
   "source": [
    "TestLastColumn = ['a','A','a','A','aA','aA','a','a','A','a']\n",
    "MajorityCnt(TestLastColumn)"
   ]
  },
  {
   "cell_type": "code",
   "execution_count": 270,
   "metadata": {
    "collapsed": false
   },
   "outputs": [
    {
     "data": {
      "text/plain": [
       "5"
      ]
     },
     "execution_count": 270,
     "metadata": {},
     "output_type": "execute_result"
    }
   ],
   "source": [
    "TestLastColumn.count(TestLastColumn[0])"
   ]
  },
  {
   "cell_type": "code",
   "execution_count": 323,
   "metadata": {
    "collapsed": false
   },
   "outputs": [],
   "source": [
    "# Two 'if's are the conditions to stop, or it will run infinitely.\n",
    "def BuildTree(dataSet, ListOfClass):\n",
    "    LastColumn = [line[-1] for line in dataSet]\n",
    "    #print(LastColumn)\n",
    "    # If all data are in the same feature, then stop the tree building\n",
    "    if LastColumn.count(LastColumn[0])==len(LastColumn):\n",
    "        #print (LastColumn[0])\n",
    "        return LastColumn[0]\n",
    "    # If all calsses have been used to split, return the majority feature of the remaining dataset\n",
    "    if len(dataSet[0])==1:\n",
    "        return MajorityCnt(LastColumn)\n",
    "    BestClass = ChooseBestFeatureToSplit(dataSet)\n",
    "    if BestClass==-1:\n",
    "        return MajorityCnt(LastColumn)\n",
    "    #print(BestClass)\n",
    "    BestClassLabel = ListOfClass[BestClass] #0~2\n",
    "    #print(BestClassLabel)\n",
    "    Tree = {BestClassLabel:{}}\n",
    "    #print(Tree)\n",
    "    del(ListOfClass[BestClass])\n",
    "    #print(ListOfClass)\n",
    "    FeaturesInOneClass = [line[BestClass] for line in dataSet]\n",
    "    uniqueFeatureInOneClass = set(FeaturesInOneClass)\n",
    "    #print(uniqueFeatureInOneClass)\n",
    "    for TheFeature in uniqueFeatureInOneClass: #0, 1, 2\n",
    "        subListOfClass = ListOfClass[:]\n",
    "        #print(subListOfClass)\n",
    "        Tree[BestClassLabel][TheFeature]=BuildTree(SplitData(dataSet, BestClass, TheFeature), subListOfClass)\n",
    "        #print(Tree)\n",
    "    return Tree"
   ]
  },
  {
   "cell_type": "code",
   "execution_count": 320,
   "metadata": {
    "collapsed": false
   },
   "outputs": [
    {
     "data": {
      "text/plain": [
       "-1"
      ]
     },
     "execution_count": 320,
     "metadata": {},
     "output_type": "execute_result"
    }
   ],
   "source": [
    "ChooseBestFeatureToSplit(SplitData(dat, 0, 2))"
   ]
  },
  {
   "cell_type": "code",
   "execution_count": 319,
   "metadata": {
    "collapsed": false
   },
   "outputs": [
    {
     "data": {
      "text/plain": [
       "[[4, 10, 'no'],\n",
       " [4, 10, 'no'],\n",
       " [5, 10, 'yes'],\n",
       " [5, 100, 'no'],\n",
       " [4, 100, 'yes'],\n",
       " [4, 10, 'yes']]"
      ]
     },
     "execution_count": 319,
     "metadata": {},
     "output_type": "execute_result"
    }
   ],
   "source": [
    "SplitData(dat, 0, 2)"
   ]
  },
  {
   "cell_type": "code",
   "execution_count": 317,
   "metadata": {
    "collapsed": false
   },
   "outputs": [
    {
     "data": {
      "text/plain": [
       "[[1, 4, 10, 'yes'],\n",
       " [1, 5, 100, 'yes'],\n",
       " [1, 4, 100, 'no'],\n",
       " [0, 4, 10, 'no'],\n",
       " [0, 4, 100, 'yes'],\n",
       " [1, 5, 10, 'yes'],\n",
       " [0, 5, 10, 'no'],\n",
       " [1, 4, 10, 'no'],\n",
       " [1, 4, 100, 'yes'],\n",
       " [1, 5, 100, 'yes'],\n",
       " [1, 4, 100, 'no'],\n",
       " [0, 5, 10, 'no'],\n",
       " [0, 5, 10, 'no'],\n",
       " [0, 4, 100, 'no'],\n",
       " [2, 4, 10, 'no'],\n",
       " [2, 4, 10, 'no'],\n",
       " [0, 4, 100, 'yes'],\n",
       " [2, 5, 10, 'yes'],\n",
       " [2, 5, 100, 'no'],\n",
       " [1, 4, 10, 'no'],\n",
       " [1, 5, 10, 'no'],\n",
       " [0, 5, 100, 'no'],\n",
       " [1, 4, 100, 'yes'],\n",
       " [0, 4, 10, 'no'],\n",
       " [2, 4, 100, 'yes'],\n",
       " [2, 4, 10, 'yes']]"
      ]
     },
     "execution_count": 317,
     "metadata": {},
     "output_type": "execute_result"
    }
   ],
   "source": [
    "dat"
   ]
  },
  {
   "cell_type": "code",
   "execution_count": 324,
   "metadata": {
    "collapsed": false
   },
   "outputs": [
    {
     "name": "stdout",
     "output_type": "stream",
     "text": [
      "no\n",
      "{'yes': 2, 'no': 1}\n",
      "[('yes', 2), ('no', 1)]\n",
      "no\n",
      "{'yes': 1, 'no': 2}\n",
      "[('no', 2), ('yes', 1)]\n",
      "{'no': 2, 'yes': 2}\n",
      "[('no', 2), ('yes', 2)]\n",
      "{'yes': 1, 'no': 1}\n",
      "[('yes', 1), ('no', 1)]\n",
      "yes\n",
      "{'no': 3, 'yes': 3}\n",
      "[('no', 3), ('yes', 3)]\n"
     ]
    }
   ],
   "source": [
    "myTree = BuildTree(dat, label)"
   ]
  },
  {
   "cell_type": "code",
   "execution_count": 325,
   "metadata": {
    "collapsed": false
   },
   "outputs": [
    {
     "data": {
      "text/plain": [
       "{'0~2': {0: {'4&5': {4: {'10&100': {10: 'no', 100: 'yes'}}, 5: 'no'}},\n",
       "  1: {'4&5': {4: {'10&100': {10: 'no', 100: 'no'}},\n",
       "    5: {'10&100': {10: 'yes', 100: 'yes'}}}},\n",
       "  2: 'no'}}"
      ]
     },
     "execution_count": 325,
     "metadata": {},
     "output_type": "execute_result"
    }
   ],
   "source": [
    "myTree"
   ]
  },
  {
   "cell_type": "code",
   "execution_count": 274,
   "metadata": {
    "collapsed": true
   },
   "outputs": [],
   "source": [
    "# Visualize the Tree\n",
    "import matplotlib.pyplot as plt"
   ]
  },
  {
   "cell_type": "code",
   "execution_count": 275,
   "metadata": {
    "collapsed": true
   },
   "outputs": [],
   "source": [
    "decisionNode = dict(boxstyle=\"sawtooth\", fc=\"0.8\")\n",
    "leafNode = dict(boxstyle=\"round4\", fc=\"0.8\")\n",
    "arrow_args = dict(arrowstyle=\"<-\")"
   ]
  },
  {
   "cell_type": "code",
   "execution_count": 276,
   "metadata": {
    "collapsed": false
   },
   "outputs": [
    {
     "data": {
      "text/plain": [
       "{'boxstyle': 'sawtooth', 'fc': '0.8'}"
      ]
     },
     "execution_count": 276,
     "metadata": {},
     "output_type": "execute_result"
    }
   ],
   "source": [
    "decisionNode"
   ]
  },
  {
   "cell_type": "code",
   "execution_count": 277,
   "metadata": {
    "collapsed": false
   },
   "outputs": [
    {
     "data": {
      "image/png": "[encoded data removed]",
      "text/plain": [
       "<matplotlib.figure.Figure at 0x111d79358>"
      ]
     },
     "metadata": {},
     "output_type": "display_data"
    }
   ],
   "source": [
    "fig = plt.figure(1, facecolor = 'yellow')\n",
    "ax = fig.add_subplot(1,1,1)\n",
    "ax.annotate('a decision node',xytext=(0.5,0.1), xy=(0.1, 0.5), arrowprops=arrow_args, bbox=decisionNode, va=\"center\", ha=\"center\", xycoords='axes fraction',textcoords='axes fraction')\n",
    "ax.annotate('a leaf node',xytext=(0.8,0.1), xy=(0.3, 0.8), arrowprops=arrow_args, bbox=leafNode, va=\"center\", ha=\"center\", xycoords='axes fraction',textcoords='axes fraction')\n",
    "plt.show()"
   ]
  },
  {
   "cell_type": "code",
   "execution_count": 333,
   "metadata": {
    "collapsed": false
   },
   "outputs": [
    {
     "data": {
      "text/plain": [
       "dict_keys(['0~2'])"
      ]
     },
     "execution_count": 333,
     "metadata": {},
     "output_type": "execute_result"
    }
   ],
   "source": [
    "myTree.keys()"
   ]
  },
  {
   "cell_type": "code",
   "execution_count": 334,
   "metadata": {
    "collapsed": false
   },
   "outputs": [
    {
     "data": {
      "text/plain": [
       "'0~2'"
      ]
     },
     "execution_count": 334,
     "metadata": {},
     "output_type": "execute_result"
    }
   ],
   "source": [
    "firstKey = list(myTree.keys())[0]\n",
    "firstKey"
   ]
  },
  {
   "cell_type": "code",
   "execution_count": 332,
   "metadata": {
    "collapsed": false
   },
   "outputs": [
    {
     "data": {
      "text/plain": [
       "[0, 1, 2]"
      ]
     },
     "execution_count": 332,
     "metadata": {},
     "output_type": "execute_result"
    }
   ],
   "source": [
    "list(myTree[firstKey].keys())"
   ]
  },
  {
   "cell_type": "code",
   "execution_count": 339,
   "metadata": {
    "collapsed": false
   },
   "outputs": [
    {
     "data": {
      "text/plain": [
       "dict"
      ]
     },
     "execution_count": 339,
     "metadata": {},
     "output_type": "execute_result"
    }
   ],
   "source": [
    "type(myTree[firstKey])"
   ]
  },
  {
   "cell_type": "code",
   "execution_count": 342,
   "metadata": {
    "collapsed": false
   },
   "outputs": [
    {
     "name": "stdout",
     "output_type": "stream",
     "text": [
      "0\n",
      "1\n",
      "2\n"
     ]
    }
   ],
   "source": [
    "for keys in myTree[firstKey].keys():\n",
    "    print(keys)"
   ]
  },
  {
   "cell_type": "code",
   "execution_count": 362,
   "metadata": {
    "collapsed": false
   },
   "outputs": [
    {
     "data": {
      "text/plain": [
       "8"
      ]
     },
     "execution_count": 362,
     "metadata": {},
     "output_type": "execute_result"
    }
   ],
   "source": [
    "# Count how many leaves, which is how many 'yes'&'no'\n",
    "def NumOfLeaf (myTree):\n",
    "    numofleaf = 0\n",
    "    FirstKeys = list(myTree.keys())\n",
    "    for key in FirstKeys:\n",
    "        if type(myTree[key]).__name__=='dict':   #can't write type(myTree[key])=='dict', the value of this bool is False\n",
    "            numofleaf += NumOfLeaf(myTree[key])\n",
    "        else:\n",
    "            numofleaf += 1\n",
    "    return numofleaf\n",
    "NumOfLeaf (myTree)"
   ]
  },
  {
   "cell_type": "code",
   "execution_count": 363,
   "metadata": {
    "collapsed": false
   },
   "outputs": [
    {
     "data": {
      "text/plain": [
       "{'0~2': {0: {'4&5': {4: {'10&100': {10: 'no', 100: 'yes'}}, 5: 'no'}},\n",
       "  1: {'4&5': {4: {'10&100': {10: 'no', 100: 'no'}},\n",
       "    5: {'10&100': {10: 'yes', 100: 'yes'}}}},\n",
       "  2: 'no'}}"
      ]
     },
     "execution_count": 363,
     "metadata": {},
     "output_type": "execute_result"
    }
   ],
   "source": [
    "myTree"
   ]
  },
  {
   "cell_type": "code",
   "execution_count": 366,
   "metadata": {
    "collapsed": false
   },
   "outputs": [],
   "source": [
    "def getTreeDepth(myTree):\n",
    "    maxDepth = 0\n",
    "    firstStr = list(myTree.keys())[0]\n",
    "    secondDict = myTree[firstStr]\n",
    "    for key in list(secondDict.keys()):\n",
    "        if type(secondDict[key]).__name__=='dict':\n",
    "            thisDepth = 1 + getTreeDepth(secondDict[key])\n",
    "        else:   \n",
    "            thisDepth = 1\n",
    "        if thisDepth > maxDepth: maxDepth = thisDepth\n",
    "    return maxDepth"
   ]
  },
  {
   "cell_type": "code",
   "execution_count": 367,
   "metadata": {
    "collapsed": false
   },
   "outputs": [
    {
     "data": {
      "text/plain": [
       "3"
      ]
     },
     "execution_count": 367,
     "metadata": {},
     "output_type": "execute_result"
    }
   ],
   "source": [
    "getTreeDepth(myTree)"
   ]
  },
  {
   "cell_type": "code",
   "execution_count": 414,
   "metadata": {
    "collapsed": false
   },
   "outputs": [],
   "source": [
    "#Try the Lenses Data from UCI\n",
    "fr = open('Data/lenses.data.txt')\n",
    "lenses=[inst.strip().split('  ') for inst in fr.readlines()]\n",
    "lensesLabels=['age', 'prescript', 'astigmatic', 'tearRate']"
   ]
  },
  {
   "cell_type": "code",
   "execution_count": 415,
   "metadata": {
    "collapsed": false
   },
   "outputs": [
    {
     "data": {
      "text/plain": [
       "[['1', '1', '1', '1', '1', '3'],\n",
       " ['2', '1', '1', '1', '2', '2'],\n",
       " ['3', '1', '1', '2', '1', '3'],\n",
       " ['4', '1', '1', '2', '2', '1'],\n",
       " ['5', '1', '2', '1', '1', '3'],\n",
       " ['6', '1', '2', '1', '2', '2'],\n",
       " ['7', '1', '2', '2', '1', '3'],\n",
       " ['8', '1', '2', '2', '2', '1'],\n",
       " ['9', '2', '1', '1', '1', '3'],\n",
       " ['10 2', '1', '1', '2', '2'],\n",
       " ['11 2', '1', '2', '1', '3'],\n",
       " ['12 2', '1', '2', '2', '1'],\n",
       " ['13 2', '2', '1', '1', '3'],\n",
       " ['14 2', '2', '1', '2', '2'],\n",
       " ['15 2', '2', '2', '1', '3'],\n",
       " ['16 2', '2', '2', '2', '3'],\n",
       " ['17 3', '1', '1', '1', '3'],\n",
       " ['18 3', '1', '1', '2', '3'],\n",
       " ['19 3', '1', '2', '1', '3'],\n",
       " ['20 3', '1', '2', '2', '1'],\n",
       " ['21 3', '2', '1', '1', '3'],\n",
       " ['22 3', '2', '1', '2', '2'],\n",
       " ['23 3', '2', '2', '1', '3'],\n",
       " ['24 3', '2', '2', '2', '3']]"
      ]
     },
     "execution_count": 415,
     "metadata": {},
     "output_type": "execute_result"
    }
   ],
   "source": [
    "# fr = open('Data/lenses.data.txt')\n",
    "# for i in fr.readlines():\n",
    "#     i=i.strip()\n",
    "#     i=i.split('  ')\n",
    "#     map(int,(x for x in i))\n",
    "#     print(i)\n",
    "#     print(len(i))\n",
    "lenses"
   ]
  },
  {
   "cell_type": "code",
   "execution_count": 385,
   "metadata": {
    "collapsed": false
   },
   "outputs": [
    {
     "name": "stdout",
     "output_type": "stream",
     "text": [
      "{'1  1  1  1  1  3': 1, '2  1  1  1  2  2': 1, '3  1  1  2  1  3': 1, '4  1  1  2  2  1': 1, '5  1  2  1  1  3': 1, '6  1  2  1  2  2': 1, '7  1  2  2  1  3': 1, '8  1  2  2  2  1': 1, '9  2  1  1  1  3': 1, '10 2  1  1  2  2': 1, '11 2  1  2  1  3': 1, '12 2  1  2  2  1': 1, '13 2  2  1  1  3': 1, '14 2  2  1  2  2': 1, '15 2  2  2  1  3': 1, '16 2  2  2  2  3': 1, '17 3  1  1  1  3': 1, '18 3  1  1  2  3': 1, '19 3  1  2  1  3': 1, '20 3  1  2  2  1': 1, '21 3  2  1  1  3': 1, '22 3  2  1  2  2': 1, '23 3  2  2  1  3': 1, '24 3  2  2  2  3': 1}\n",
      "[('1  1  1  1  1  3', 1), ('2  1  1  1  2  2', 1), ('3  1  1  2  1  3', 1), ('4  1  1  2  2  1', 1), ('5  1  2  1  1  3', 1), ('6  1  2  1  2  2', 1), ('7  1  2  2  1  3', 1), ('8  1  2  2  2  1', 1), ('9  2  1  1  1  3', 1), ('10 2  1  1  2  2', 1), ('11 2  1  2  1  3', 1), ('12 2  1  2  2  1', 1), ('13 2  2  1  1  3', 1), ('14 2  2  1  2  2', 1), ('15 2  2  2  1  3', 1), ('16 2  2  2  2  3', 1), ('17 3  1  1  1  3', 1), ('18 3  1  1  2  3', 1), ('19 3  1  2  1  3', 1), ('20 3  1  2  2  1', 1), ('21 3  2  1  1  3', 1), ('22 3  2  1  2  2', 1), ('23 3  2  2  1  3', 1), ('24 3  2  2  2  3', 1)]\n"
     ]
    },
    {
     "data": {
      "text/plain": [
       "'1  1  1  1  1  3'"
      ]
     },
     "execution_count": 385,
     "metadata": {},
     "output_type": "execute_result"
    }
   ],
   "source": [
    "BuildTree(lenses, lensesLabels)"
   ]
  },
  {
   "cell_type": "code",
   "execution_count": null,
   "metadata": {
    "collapsed": true
   },
   "outputs": [],
   "source": [
    "\n"
   ]
  }
 ],
 "metadata": {
  "kernelspec": {
   "display_name": "Python 3",
   "language": "python",
   "name": "python3"
  },
  "language_info": {
   "codemirror_mode": {
    "name": "ipython",
    "version": 3
   },
   "file_extension": ".py",
   "mimetype": "text/x-python",
   "name": "python",
   "nbconvert_exporter": "python",
   "pygments_lexer": "ipython3",
   "version": "3.6.0"
  }
 },
 "nbformat": 4,
 "nbformat_minor": 2
}
