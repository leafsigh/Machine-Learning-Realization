{
 "cells": [
  {
   "cell_type": "code",
   "execution_count": 9,
   "metadata": {
    "collapsed": false
   },
   "outputs": [],
   "source": [
    "import pandas as pd\n",
    "import urllib.request as ur\n",
    "import numpy as np\n",
    "import sklearn.cross_validation as skc\n",
    "import sklearn.neighbors as skn"
   ]
  },
  {
   "cell_type": "code",
   "execution_count": 254,
   "metadata": {
    "collapsed": true
   },
   "outputs": [],
   "source": [
    "import sklearn as sk\n",
    "import sklearn.model_selection as skm\n",
    "import matplotlib.pyplot as plt\n",
    "import matplotlib.patches as mpatches\n",
    "import collections as cn\n",
    "import operator"
   ]
  },
  {
   "cell_type": "code",
   "execution_count": 11,
   "metadata": {
    "collapsed": false
   },
   "outputs": [
    {
     "data": {
      "text/html": [
       "<div>\n",
       "<table border=\"1\" class=\"dataframe\">\n",
       "  <thead>\n",
       "    <tr style=\"text-align: right;\">\n",
       "      <th></th>\n",
       "      <th>sepal_length</th>\n",
       "      <th>sepal_width</th>\n",
       "      <th>petal_length</th>\n",
       "      <th>petal_width</th>\n",
       "      <th>class</th>\n",
       "    </tr>\n",
       "  </thead>\n",
       "  <tbody>\n",
       "    <tr>\n",
       "      <th>0</th>\n",
       "      <td>5.1</td>\n",
       "      <td>3.5</td>\n",
       "      <td>1.4</td>\n",
       "      <td>0.2</td>\n",
       "      <td>Iris-setosa</td>\n",
       "    </tr>\n",
       "    <tr>\n",
       "      <th>1</th>\n",
       "      <td>4.9</td>\n",
       "      <td>3.0</td>\n",
       "      <td>1.4</td>\n",
       "      <td>0.2</td>\n",
       "      <td>Iris-setosa</td>\n",
       "    </tr>\n",
       "    <tr>\n",
       "      <th>2</th>\n",
       "      <td>4.7</td>\n",
       "      <td>3.2</td>\n",
       "      <td>1.3</td>\n",
       "      <td>0.2</td>\n",
       "      <td>Iris-setosa</td>\n",
       "    </tr>\n",
       "    <tr>\n",
       "      <th>3</th>\n",
       "      <td>4.6</td>\n",
       "      <td>3.1</td>\n",
       "      <td>1.5</td>\n",
       "      <td>0.2</td>\n",
       "      <td>Iris-setosa</td>\n",
       "    </tr>\n",
       "    <tr>\n",
       "      <th>4</th>\n",
       "      <td>5.0</td>\n",
       "      <td>3.6</td>\n",
       "      <td>1.4</td>\n",
       "      <td>0.2</td>\n",
       "      <td>Iris-setosa</td>\n",
       "    </tr>\n",
       "  </tbody>\n",
       "</table>\n",
       "</div>"
      ],
      "text/plain": [
       "   sepal_length  sepal_width  petal_length  petal_width        class\n",
       "0           5.1          3.5           1.4          0.2  Iris-setosa\n",
       "1           4.9          3.0           1.4          0.2  Iris-setosa\n",
       "2           4.7          3.2           1.3          0.2  Iris-setosa\n",
       "3           4.6          3.1           1.5          0.2  Iris-setosa\n",
       "4           5.0          3.6           1.4          0.2  Iris-setosa"
      ]
     },
     "execution_count": 11,
     "metadata": {},
     "output_type": "execute_result"
    }
   ],
   "source": [
    "names = ['sepal_length', 'sepal_width', 'petal_length', 'petal_width', 'class']\n",
    "flower = pd.read_csv('/Users/yisongdong/Desktop/MSF&Python/Learning Python/Machine Learning/Data/iris.data.txt', header=None, names=names)\n",
    "flower.head()"
   ]
  },
  {
   "cell_type": "code",
   "execution_count": 12,
   "metadata": {
    "collapsed": false
   },
   "outputs": [
    {
     "data": {
      "text/plain": [
       "array([[ 5.1,  3.5,  1.4,  0.2],\n",
       "       [ 4.9,  3. ,  1.4,  0.2],\n",
       "       [ 4.7,  3.2,  1.3,  0.2],\n",
       "       [ 4.6,  3.1,  1.5,  0.2],\n",
       "       [ 5. ,  3.6,  1.4,  0.2],\n",
       "       [ 5.4,  3.9,  1.7,  0.4],\n",
       "       [ 4.6,  3.4,  1.4,  0.3],\n",
       "       [ 5. ,  3.4,  1.5,  0.2],\n",
       "       [ 4.4,  2.9,  1.4,  0.2],\n",
       "       [ 4.9,  3.1,  1.5,  0.1],\n",
       "       [ 5.4,  3.7,  1.5,  0.2],\n",
       "       [ 4.8,  3.4,  1.6,  0.2],\n",
       "       [ 4.8,  3. ,  1.4,  0.1],\n",
       "       [ 4.3,  3. ,  1.1,  0.1],\n",
       "       [ 5.8,  4. ,  1.2,  0.2],\n",
       "       [ 5.7,  4.4,  1.5,  0.4],\n",
       "       [ 5.4,  3.9,  1.3,  0.4],\n",
       "       [ 5.1,  3.5,  1.4,  0.3],\n",
       "       [ 5.7,  3.8,  1.7,  0.3],\n",
       "       [ 5.1,  3.8,  1.5,  0.3],\n",
       "       [ 5.4,  3.4,  1.7,  0.2],\n",
       "       [ 5.1,  3.7,  1.5,  0.4],\n",
       "       [ 4.6,  3.6,  1. ,  0.2],\n",
       "       [ 5.1,  3.3,  1.7,  0.5],\n",
       "       [ 4.8,  3.4,  1.9,  0.2],\n",
       "       [ 5. ,  3. ,  1.6,  0.2],\n",
       "       [ 5. ,  3.4,  1.6,  0.4],\n",
       "       [ 5.2,  3.5,  1.5,  0.2],\n",
       "       [ 5.2,  3.4,  1.4,  0.2],\n",
       "       [ 4.7,  3.2,  1.6,  0.2],\n",
       "       [ 4.8,  3.1,  1.6,  0.2],\n",
       "       [ 5.4,  3.4,  1.5,  0.4],\n",
       "       [ 5.2,  4.1,  1.5,  0.1],\n",
       "       [ 5.5,  4.2,  1.4,  0.2],\n",
       "       [ 4.9,  3.1,  1.5,  0.1],\n",
       "       [ 5. ,  3.2,  1.2,  0.2],\n",
       "       [ 5.5,  3.5,  1.3,  0.2],\n",
       "       [ 4.9,  3.1,  1.5,  0.1],\n",
       "       [ 4.4,  3. ,  1.3,  0.2],\n",
       "       [ 5.1,  3.4,  1.5,  0.2],\n",
       "       [ 5. ,  3.5,  1.3,  0.3],\n",
       "       [ 4.5,  2.3,  1.3,  0.3],\n",
       "       [ 4.4,  3.2,  1.3,  0.2],\n",
       "       [ 5. ,  3.5,  1.6,  0.6],\n",
       "       [ 5.1,  3.8,  1.9,  0.4],\n",
       "       [ 4.8,  3. ,  1.4,  0.3],\n",
       "       [ 5.1,  3.8,  1.6,  0.2],\n",
       "       [ 4.6,  3.2,  1.4,  0.2],\n",
       "       [ 5.3,  3.7,  1.5,  0.2],\n",
       "       [ 5. ,  3.3,  1.4,  0.2],\n",
       "       [ 7. ,  3.2,  4.7,  1.4],\n",
       "       [ 6.4,  3.2,  4.5,  1.5],\n",
       "       [ 6.9,  3.1,  4.9,  1.5],\n",
       "       [ 5.5,  2.3,  4. ,  1.3],\n",
       "       [ 6.5,  2.8,  4.6,  1.5],\n",
       "       [ 5.7,  2.8,  4.5,  1.3],\n",
       "       [ 6.3,  3.3,  4.7,  1.6],\n",
       "       [ 4.9,  2.4,  3.3,  1. ],\n",
       "       [ 6.6,  2.9,  4.6,  1.3],\n",
       "       [ 5.2,  2.7,  3.9,  1.4],\n",
       "       [ 5. ,  2. ,  3.5,  1. ],\n",
       "       [ 5.9,  3. ,  4.2,  1.5],\n",
       "       [ 6. ,  2.2,  4. ,  1. ],\n",
       "       [ 6.1,  2.9,  4.7,  1.4],\n",
       "       [ 5.6,  2.9,  3.6,  1.3],\n",
       "       [ 6.7,  3.1,  4.4,  1.4],\n",
       "       [ 5.6,  3. ,  4.5,  1.5],\n",
       "       [ 5.8,  2.7,  4.1,  1. ],\n",
       "       [ 6.2,  2.2,  4.5,  1.5],\n",
       "       [ 5.6,  2.5,  3.9,  1.1],\n",
       "       [ 5.9,  3.2,  4.8,  1.8],\n",
       "       [ 6.1,  2.8,  4. ,  1.3],\n",
       "       [ 6.3,  2.5,  4.9,  1.5],\n",
       "       [ 6.1,  2.8,  4.7,  1.2],\n",
       "       [ 6.4,  2.9,  4.3,  1.3],\n",
       "       [ 6.6,  3. ,  4.4,  1.4],\n",
       "       [ 6.8,  2.8,  4.8,  1.4],\n",
       "       [ 6.7,  3. ,  5. ,  1.7],\n",
       "       [ 6. ,  2.9,  4.5,  1.5],\n",
       "       [ 5.7,  2.6,  3.5,  1. ],\n",
       "       [ 5.5,  2.4,  3.8,  1.1],\n",
       "       [ 5.5,  2.4,  3.7,  1. ],\n",
       "       [ 5.8,  2.7,  3.9,  1.2],\n",
       "       [ 6. ,  2.7,  5.1,  1.6],\n",
       "       [ 5.4,  3. ,  4.5,  1.5],\n",
       "       [ 6. ,  3.4,  4.5,  1.6],\n",
       "       [ 6.7,  3.1,  4.7,  1.5],\n",
       "       [ 6.3,  2.3,  4.4,  1.3],\n",
       "       [ 5.6,  3. ,  4.1,  1.3],\n",
       "       [ 5.5,  2.5,  4. ,  1.3],\n",
       "       [ 5.5,  2.6,  4.4,  1.2],\n",
       "       [ 6.1,  3. ,  4.6,  1.4],\n",
       "       [ 5.8,  2.6,  4. ,  1.2],\n",
       "       [ 5. ,  2.3,  3.3,  1. ],\n",
       "       [ 5.6,  2.7,  4.2,  1.3],\n",
       "       [ 5.7,  3. ,  4.2,  1.2],\n",
       "       [ 5.7,  2.9,  4.2,  1.3],\n",
       "       [ 6.2,  2.9,  4.3,  1.3],\n",
       "       [ 5.1,  2.5,  3. ,  1.1],\n",
       "       [ 5.7,  2.8,  4.1,  1.3],\n",
       "       [ 6.3,  3.3,  6. ,  2.5],\n",
       "       [ 5.8,  2.7,  5.1,  1.9],\n",
       "       [ 7.1,  3. ,  5.9,  2.1],\n",
       "       [ 6.3,  2.9,  5.6,  1.8],\n",
       "       [ 6.5,  3. ,  5.8,  2.2],\n",
       "       [ 7.6,  3. ,  6.6,  2.1],\n",
       "       [ 4.9,  2.5,  4.5,  1.7],\n",
       "       [ 7.3,  2.9,  6.3,  1.8],\n",
       "       [ 6.7,  2.5,  5.8,  1.8],\n",
       "       [ 7.2,  3.6,  6.1,  2.5],\n",
       "       [ 6.5,  3.2,  5.1,  2. ],\n",
       "       [ 6.4,  2.7,  5.3,  1.9],\n",
       "       [ 6.8,  3. ,  5.5,  2.1],\n",
       "       [ 5.7,  2.5,  5. ,  2. ],\n",
       "       [ 5.8,  2.8,  5.1,  2.4],\n",
       "       [ 6.4,  3.2,  5.3,  2.3],\n",
       "       [ 6.5,  3. ,  5.5,  1.8],\n",
       "       [ 7.7,  3.8,  6.7,  2.2],\n",
       "       [ 7.7,  2.6,  6.9,  2.3],\n",
       "       [ 6. ,  2.2,  5. ,  1.5],\n",
       "       [ 6.9,  3.2,  5.7,  2.3],\n",
       "       [ 5.6,  2.8,  4.9,  2. ],\n",
       "       [ 7.7,  2.8,  6.7,  2. ],\n",
       "       [ 6.3,  2.7,  4.9,  1.8],\n",
       "       [ 6.7,  3.3,  5.7,  2.1],\n",
       "       [ 7.2,  3.2,  6. ,  1.8],\n",
       "       [ 6.2,  2.8,  4.8,  1.8],\n",
       "       [ 6.1,  3. ,  4.9,  1.8],\n",
       "       [ 6.4,  2.8,  5.6,  2.1],\n",
       "       [ 7.2,  3. ,  5.8,  1.6],\n",
       "       [ 7.4,  2.8,  6.1,  1.9],\n",
       "       [ 7.9,  3.8,  6.4,  2. ],\n",
       "       [ 6.4,  2.8,  5.6,  2.2],\n",
       "       [ 6.3,  2.8,  5.1,  1.5],\n",
       "       [ 6.1,  2.6,  5.6,  1.4],\n",
       "       [ 7.7,  3. ,  6.1,  2.3],\n",
       "       [ 6.3,  3.4,  5.6,  2.4],\n",
       "       [ 6.4,  3.1,  5.5,  1.8],\n",
       "       [ 6. ,  3. ,  4.8,  1.8],\n",
       "       [ 6.9,  3.1,  5.4,  2.1],\n",
       "       [ 6.7,  3.1,  5.6,  2.4],\n",
       "       [ 6.9,  3.1,  5.1,  2.3],\n",
       "       [ 5.8,  2.7,  5.1,  1.9],\n",
       "       [ 6.8,  3.2,  5.9,  2.3],\n",
       "       [ 6.7,  3.3,  5.7,  2.5],\n",
       "       [ 6.7,  3. ,  5.2,  2.3],\n",
       "       [ 6.3,  2.5,  5. ,  1.9],\n",
       "       [ 6.5,  3. ,  5.2,  2. ],\n",
       "       [ 6.2,  3.4,  5.4,  2.3],\n",
       "       [ 5.9,  3. ,  5.1,  1.8]])"
      ]
     },
     "execution_count": 12,
     "metadata": {},
     "output_type": "execute_result"
    }
   ],
   "source": [
    "# scikit-learn requires that the design matrix X and target vector y be numpy arrays so let’s oblige. \n",
    "# Furthermore, we need to split our data into training and test sets. The following code does just that.\n",
    "X = np.array(flower.iloc[:, 0:4])\n",
    "X"
   ]
  },
  {
   "cell_type": "code",
   "execution_count": 13,
   "metadata": {
    "collapsed": false
   },
   "outputs": [],
   "source": [
    "Y = np.array(flower['class'])"
   ]
  },
  {
   "cell_type": "code",
   "execution_count": 17,
   "metadata": {
    "collapsed": false
   },
   "outputs": [],
   "source": [
    "X_train, X_test, Y_train, Y_test = skc.train_test_split(X, Y, test_size=0.33, random_state=42)"
   ]
  },
  {
   "cell_type": "markdown",
   "metadata": {},
   "source": [
    "sklearn.model_selection.train_test_split() function can split data into train and test set.\n",
    "Parameter1--test_size, can be a interger (absolute number of train data), or folat (fraction of train data)\n",
    "Parameter2--train_size, same as test_size\n",
    "Parameter3--random_state, an integer, set the seed\n",
    "Parameter4--shuffle, boolean, wheter or not shuffle the data before split"
   ]
  },
  {
   "cell_type": "code",
   "execution_count": 20,
   "metadata": {
    "collapsed": false
   },
   "outputs": [
    {
     "data": {
      "text/plain": [
       "KNeighborsClassifier(algorithm='auto', leaf_size=30, metric='minkowski',\n",
       "           metric_params=None, n_jobs=1, n_neighbors=3, p=2,\n",
       "           weights='uniform')"
      ]
     },
     "execution_count": 20,
     "metadata": {},
     "output_type": "execute_result"
    }
   ],
   "source": [
    "flowers_knn=skn.KNeighborsClassifier(n_neighbors=3)\n",
    "flowers_knn.fit(X_train, Y_train)"
   ]
  },
  {
   "cell_type": "markdown",
   "metadata": {},
   "source": [
    "sklearn.neighbors.KNeighborsClassifier(n_neighbors=5, weights=’uniform’, algorithm=’auto’, leaf_size=30, p=2, metric=’minkowski’, metric_params=None, n_jobs=1, **kwargs)---Classifier implementing the k-nearest neighbors vote.\n",
    "\n",
    "Explanantion of parameters\n",
    "\n",
    "Parameter1--weights: uniform, distance (weighted by distance), or a user-defined function which accepts an array of distances, and returns an array of the same shape containing the weights.\n",
    "\n",
    "Parameter2--algorithm: auto, ball_tree, kd_tree, brute\n",
    "\n",
    "Parameter3--p: when p=1, use Manhattan Distance, when p=2, use Euclidean Distance"
   ]
  },
  {
   "cell_type": "code",
   "execution_count": 22,
   "metadata": {
    "collapsed": false
   },
   "outputs": [
    {
     "data": {
      "text/plain": [
       "array(['Iris-versicolor', 'Iris-setosa', 'Iris-virginica',\n",
       "       'Iris-versicolor', 'Iris-versicolor', 'Iris-setosa',\n",
       "       'Iris-versicolor', 'Iris-virginica', 'Iris-versicolor',\n",
       "       'Iris-versicolor', 'Iris-virginica', 'Iris-setosa', 'Iris-setosa',\n",
       "       'Iris-setosa', 'Iris-setosa', 'Iris-versicolor', 'Iris-virginica',\n",
       "       'Iris-versicolor', 'Iris-versicolor', 'Iris-virginica',\n",
       "       'Iris-setosa', 'Iris-virginica', 'Iris-setosa', 'Iris-virginica',\n",
       "       'Iris-virginica', 'Iris-virginica', 'Iris-virginica',\n",
       "       'Iris-virginica', 'Iris-setosa', 'Iris-setosa', 'Iris-setosa',\n",
       "       'Iris-setosa', 'Iris-versicolor', 'Iris-setosa', 'Iris-setosa',\n",
       "       'Iris-virginica', 'Iris-versicolor', 'Iris-setosa', 'Iris-setosa',\n",
       "       'Iris-setosa', 'Iris-virginica', 'Iris-versicolor',\n",
       "       'Iris-versicolor', 'Iris-setosa', 'Iris-setosa', 'Iris-versicolor',\n",
       "       'Iris-versicolor', 'Iris-virginica', 'Iris-versicolor',\n",
       "       'Iris-virginica'], dtype=object)"
      ]
     },
     "execution_count": 22,
     "metadata": {},
     "output_type": "execute_result"
    }
   ],
   "source": [
    "pred = flowers_knn.predict(X_test)\n",
    "pred"
   ]
  },
  {
   "cell_type": "code",
   "execution_count": 23,
   "metadata": {
    "collapsed": false
   },
   "outputs": [
    {
     "name": "stdout",
     "output_type": "stream",
     "text": [
      "0.98\n"
     ]
    }
   ],
   "source": [
    "# Compare prediction and Y_test to get the accuracy\n",
    "print(sk.metrics.accuracy_score(Y_test, pred))"
   ]
  },
  {
   "cell_type": "markdown",
   "metadata": {},
   "source": [
    "accuracy_score(y_true, y_predict, normalize=boolean, sample_weight=array-like shape)\n",
    "\n",
    "If normalize = False, will return the absolute number of accuracy, else return the fraction of accuracy."
   ]
  },
  {
   "cell_type": "code",
   "execution_count": 25,
   "metadata": {
    "collapsed": false
   },
   "outputs": [
    {
     "data": {
      "text/plain": [
       "[0.97999999999999998,\n",
       " 0.97999999999999998,\n",
       " 0.97999999999999998,\n",
       " 0.97999999999999998,\n",
       " 0.97999999999999998,\n",
       " 1.0,\n",
       " 1.0,\n",
       " 1.0,\n",
       " 1.0,\n",
       " 1.0,\n",
       " 1.0,\n",
       " 1.0,\n",
       " 1.0,\n",
       " 1.0,\n",
       " 1.0,\n",
       " 0.97999999999999998,\n",
       " 1.0,\n",
       " 1.0,\n",
       " 1.0,\n",
       " 0.95999999999999996,\n",
       " 0.95999999999999996,\n",
       " 0.95999999999999996,\n",
       " 0.93999999999999995,\n",
       " 0.93999999999999995,\n",
       " 0.93999999999999995]"
      ]
     },
     "execution_count": 25,
     "metadata": {},
     "output_type": "execute_result"
    }
   ],
   "source": [
    "# Find the best K\n",
    "\n",
    "# Create a list of K (K in K neighbors, not k-fold)\n",
    "KList = list(range(1,50))\n",
    "\n",
    "OddK = filter(lambda x: x%2!=0, KList)\n",
    "\n",
    "scores=[]\n",
    "for K in OddK:\n",
    "    flowers_knn = skn.KNeighborsClassifier(n_neighbors=K)\n",
    "    flowers_knn.fit(X_train, Y_train)\n",
    "    pred = flowers_knn.predict(X_test)\n",
    "    scores.append(sk.metrics.accuracy_score(Y_test, pred))\n",
    "    \n",
    "scores"
   ]
  },
  {
   "cell_type": "code",
   "execution_count": 27,
   "metadata": {
    "collapsed": false
   },
   "outputs": [
    {
     "data": {
      "text/plain": [
       "[0.94252525252525265,\n",
       " 0.94328282828282828,\n",
       " 0.95161616161616158,\n",
       " 0.95252525252525255,\n",
       " 0.94419191919191925,\n",
       " 0.94252525252525265,\n",
       " 0.93419191919191924,\n",
       " 0.94252525252525265,\n",
       " 0.94252525252525265,\n",
       " 0.94252525252525265,\n",
       " 0.94252525252525265,\n",
       " 0.93141414141414158,\n",
       " 0.95050505050505052,\n",
       " 0.91212121212121211,\n",
       " 0.90919191919191922,\n",
       " 0.89101010101010103,\n",
       " 0.90010101010101029,\n",
       " 0.90919191919191922,\n",
       " 0.90010101010101029,\n",
       " 0.89176767676767688,\n",
       " 0.90287878787878795,\n",
       " 0.89176767676767688,\n",
       " 0.88267676767676773,\n",
       " 0.88267676767676784,\n",
       " 0.87156565656565665]"
      ]
     },
     "execution_count": 27,
     "metadata": {},
     "output_type": "execute_result"
    }
   ],
   "source": [
    "# Use Cross Validation find the best K-neighbor\n",
    "\n",
    "KList = list(range(1,50))\n",
    "\n",
    "OddK = list(filter(lambda x: x%2!=0, KList))\n",
    "\n",
    "cv_scores=[]\n",
    "for K in OddK:\n",
    "    flowers_knn = skn.KNeighborsClassifier(n_neighbors=K)\n",
    "    scores = skm.cross_val_score(flowers_knn, X_train, Y_train, cv=10, scoring='accuracy')\n",
    "    cv_scores.append(scores.mean())\n",
    "cv_scores"
   ]
  },
  {
   "cell_type": "code",
   "execution_count": 28,
   "metadata": {
    "collapsed": false
   },
   "outputs": [
    {
     "data": {
      "text/plain": [
       "[0.057474747474747345,\n",
       " 0.056717171717171722,\n",
       " 0.048383838383838418,\n",
       " 0.047474747474747447,\n",
       " 0.055808080808080751,\n",
       " 0.057474747474747345,\n",
       " 0.06580808080808076,\n",
       " 0.057474747474747345,\n",
       " 0.057474747474747345,\n",
       " 0.057474747474747345,\n",
       " 0.057474747474747345,\n",
       " 0.068585858585858417,\n",
       " 0.049494949494949481,\n",
       " 0.08787878787878789,\n",
       " 0.090808080808080782,\n",
       " 0.10898989898989897,\n",
       " 0.09989898989898971,\n",
       " 0.090808080808080782,\n",
       " 0.09989898989898971,\n",
       " 0.10823232323232312,\n",
       " 0.097121212121212053,\n",
       " 0.10823232323232312,\n",
       " 0.11732323232323227,\n",
       " 0.11732323232323216,\n",
       " 0.12843434343434335]"
      ]
     },
     "execution_count": 28,
     "metadata": {},
     "output_type": "execute_result"
    }
   ],
   "source": [
    "MSE = [1 - x for x in cv_scores]\n",
    "MSE"
   ]
  },
  {
   "cell_type": "code",
   "execution_count": 29,
   "metadata": {
    "collapsed": false
   },
   "outputs": [
    {
     "data": {
      "text/plain": [
       "7"
      ]
     },
     "execution_count": 29,
     "metadata": {},
     "output_type": "execute_result"
    }
   ],
   "source": [
    "optimal_k = OddK[MSE.index(min(MSE))]\n",
    "optimal_k"
   ]
  },
  {
   "cell_type": "markdown",
   "metadata": {},
   "source": [
    "index() method finds the given element in a list and returns its position"
   ]
  },
  {
   "cell_type": "code",
   "execution_count": 30,
   "metadata": {
    "collapsed": false
   },
   "outputs": [
    {
     "name": "stdout",
     "output_type": "stream",
     "text": [
      "The optimal number of neighbors is 7\n"
     ]
    }
   ],
   "source": [
    "print (\"The optimal number of neighbors is %d\" % optimal_k)"
   ]
  },
  {
   "cell_type": "code",
   "execution_count": 31,
   "metadata": {
    "collapsed": false
   },
   "outputs": [
    {
     "data": {
      "image/png": "[encoded data removed]",
      "text/plain": [
       "<matplotlib.figure.Figure at 0x11b9b70b8>"
      ]
     },
     "metadata": {},
     "output_type": "display_data"
    }
   ],
   "source": [
    "plt.plot(OddK, MSE)\n",
    "plt.xlabel('Number of Neighbors K')\n",
    "plt.ylabel('Misclassification Error')\n",
    "plt.show()"
   ]
  },
  {
   "cell_type": "code",
   "execution_count": null,
   "metadata": {
    "collapsed": true
   },
   "outputs": [],
   "source": []
  },
  {
   "cell_type": "code",
   "execution_count": 32,
   "metadata": {
    "collapsed": true
   },
   "outputs": [],
   "source": [
    "# Create our own KNN algorithm\n",
    "# All variables need to be numpy array to realize this function\n",
    "def KnnPredict(X_train, Y_train, Xi_test, K):\n",
    "    distances = []\n",
    "    targets = []\n",
    "    for i in range(len(X_train)):\n",
    "        distance = np.sqrt(np.sum(np.square(X_train[i,:]-Xi_test)))\n",
    "        distances.append([i,distance])\n",
    "    distances.sort(key = lambda x: x[1])\n",
    "    for i in range(K):\n",
    "        target = Y_train[distances[i][0]]\n",
    "        targets.append(target)\n",
    "    return cn.Counter(targets).most_common(1)[0][0]"
   ]
  },
  {
   "cell_type": "markdown",
   "metadata": {},
   "source": [
    "A Counter is a container that keeps track of how many times equivalent values are added.\n",
    "\n",
    "The Counter.most_common( ) function returns [The most common elements, times appear], so [0][0] just chooses 'which is the most common elements'. "
   ]
  },
  {
   "cell_type": "code",
   "execution_count": 33,
   "metadata": {
    "collapsed": false
   },
   "outputs": [
    {
     "data": {
      "text/plain": [
       "94"
      ]
     },
     "execution_count": 33,
     "metadata": {},
     "output_type": "execute_result"
    }
   ],
   "source": [
    "# When the list is a numpy array, the calculation will be realized:\n",
    "a=np.array([9,12,2,3])\n",
    "b=np.array([5,7,9,5])\n",
    "l = np.square(a-b)\n",
    "np.sum(np.square(a-b))"
   ]
  },
  {
   "cell_type": "code",
   "execution_count": 34,
   "metadata": {
    "collapsed": false
   },
   "outputs": [],
   "source": [
    "K=7\n",
    "predictions=[]\n",
    "for i in X_test:\n",
    "    predictions.append(KnnPredict(X_train, Y_train, i, K))"
   ]
  },
  {
   "cell_type": "code",
   "execution_count": 35,
   "metadata": {
    "collapsed": false
   },
   "outputs": [],
   "source": [
    "predictions=np.asarray(predictions)"
   ]
  },
  {
   "cell_type": "code",
   "execution_count": 36,
   "metadata": {
    "collapsed": false
   },
   "outputs": [
    {
     "data": {
      "text/plain": [
       "0.97999999999999998"
      ]
     },
     "execution_count": 36,
     "metadata": {},
     "output_type": "execute_result"
    }
   ],
   "source": [
    "accuracy = sk.metrics.accuracy_score(Y_test,predictions)\n",
    "accuracy"
   ]
  },
  {
   "cell_type": "code",
   "execution_count": 37,
   "metadata": {
    "collapsed": false
   },
   "outputs": [
    {
     "name": "stdout",
     "output_type": "stream",
     "text": [
      "\n",
      "The accuracy of OUR classifier is 0%\n"
     ]
    },
    {
     "data": {
      "text/plain": [
       "0.97999999999999998"
      ]
     },
     "execution_count": 37,
     "metadata": {},
     "output_type": "execute_result"
    }
   ],
   "source": [
    "# check if k larger than n\n",
    "# We can use raise/try/except module\n",
    "preds=[]\n",
    "K=9\n",
    "if K > len(X_train):\n",
    "    raise ValueError\n",
    "for i in X_test:\n",
    "    try:\n",
    "        preds.append(KnnPredict(X_train, Y_train, i, K))\n",
    "    except ValueError:\n",
    "        print('Can\\'t have more neighbors than training samples!!')\n",
    "\n",
    "accuracy = sk.metrics.accuracy_score(Y_test, preds)\n",
    "print('\\nThe accuracy of OUR classifier is %d%%' % accuracy)\n",
    "accuracy"
   ]
  },
  {
   "cell_type": "code",
   "execution_count": null,
   "metadata": {
    "collapsed": true
   },
   "outputs": [],
   "source": []
  },
  {
   "cell_type": "code",
   "execution_count": 38,
   "metadata": {
    "collapsed": false
   },
   "outputs": [
    {
     "data": {
      "text/plain": [
       "(3, 3)"
      ]
     },
     "execution_count": 38,
     "metadata": {},
     "output_type": "execute_result"
    }
   ],
   "source": [
    "# Another form algo of KNN\n",
    "\n",
    "# some numpy functions:\n",
    "\n",
    "# 1) Create matrix and find the size\n",
    "npm=np.matrix('2,3,4;5,6,7;35,635,3')\n",
    "npm.shape"
   ]
  },
  {
   "cell_type": "code",
   "execution_count": 39,
   "metadata": {
    "collapsed": false
   },
   "outputs": [
    {
     "data": {
      "text/plain": [
       "array([77, 77, 77, 77, 77, 77, 77, 77, 77, 77])"
      ]
     },
     "execution_count": 39,
     "metadata": {},
     "output_type": "execute_result"
    }
   ],
   "source": [
    "# 2) Make replications of number\n",
    "rep = np.tile(77,10)\n",
    "rep"
   ]
  },
  {
   "cell_type": "code",
   "execution_count": 40,
   "metadata": {
    "collapsed": false
   },
   "outputs": [
    {
     "data": {
      "text/plain": [
       "matrix([[  2,   3,   4,   2,   3,   4],\n",
       "        [  5,   6,   7,   5,   6,   7],\n",
       "        [ 35, 635,   3,  35, 635,   3],\n",
       "        [  2,   3,   4,   2,   3,   4],\n",
       "        [  5,   6,   7,   5,   6,   7],\n",
       "        [ 35, 635,   3,  35, 635,   3],\n",
       "        [  2,   3,   4,   2,   3,   4],\n",
       "        [  5,   6,   7,   5,   6,   7],\n",
       "        [ 35, 635,   3,  35, 635,   3]])"
      ]
     },
     "execution_count": 40,
     "metadata": {},
     "output_type": "execute_result"
    }
   ],
   "source": [
    "# 3) Make replications of matrix\n",
    "rep1 = np.tile(npm,(3,2))\n",
    "rep1"
   ]
  },
  {
   "cell_type": "code",
   "execution_count": 41,
   "metadata": {
    "collapsed": false
   },
   "outputs": [
    {
     "data": {
      "text/plain": [
       "matrix([[  2,   3,   4],\n",
       "        [  5,   6,   7],\n",
       "        [ 35, 635,   3],\n",
       "        [  2,   3,   4],\n",
       "        [  5,   6,   7],\n",
       "        [ 35, 635,   3],\n",
       "        [  2,   3,   4],\n",
       "        [  5,   6,   7],\n",
       "        [ 35, 635,   3]])"
      ]
     },
     "execution_count": 41,
     "metadata": {},
     "output_type": "execute_result"
    }
   ],
   "source": [
    "rep2 = np.tile(npm,(3,1))\n",
    "rep2"
   ]
  },
  {
   "cell_type": "code",
   "execution_count": 42,
   "metadata": {
    "collapsed": false
   },
   "outputs": [
    {
     "data": {
      "text/plain": [
       "matrix([[  2,   3,   4,   2,   3,   4,   2,   3,   4],\n",
       "        [  5,   6,   7,   5,   6,   7,   5,   6,   7],\n",
       "        [ 35, 635,   3,  35, 635,   3,  35, 635,   3]])"
      ]
     },
     "execution_count": 42,
     "metadata": {},
     "output_type": "execute_result"
    }
   ],
   "source": [
    "rep3 = np.tile(npm,3)\n",
    "rep3"
   ]
  },
  {
   "cell_type": "code",
   "execution_count": 45,
   "metadata": {
    "collapsed": false
   },
   "outputs": [
    {
     "data": {
      "text/plain": [
       "matrix([[  30,   39,  538],\n",
       "        [   8,  629,    5],\n",
       "        [  30, -311,  531]])"
      ]
     },
     "execution_count": 45,
     "metadata": {},
     "output_type": "execute_result"
    }
   ],
   "source": [
    "npm1=np.matrix('32,42,542;13,635,12;65,324,534')\n",
    "dif = npm1-npm\n",
    "dif"
   ]
  },
  {
   "cell_type": "code",
   "execution_count": 46,
   "metadata": {
    "collapsed": false
   },
   "outputs": [
    {
     "data": {
      "text/plain": [
       "matrix([[0, 1, 2]])"
      ]
     },
     "execution_count": 46,
     "metadata": {},
     "output_type": "execute_result"
    }
   ],
   "source": [
    "dif.sum(axis=1)\n",
    "ff = dif.sum(axis=0)\n",
    "ff.argsort()"
   ]
  },
  {
   "cell_type": "markdown",
   "metadata": {},
   "source": [
    "The smallest number is the second one in 'ff', the second smallest is the first one in 'ff', and the largest is the last one in 'ff'"
   ]
  },
  {
   "cell_type": "code",
   "execution_count": 47,
   "metadata": {
    "collapsed": false
   },
   "outputs": [
    {
     "data": {
      "text/plain": [
       "matrix([[   900,   1521, 289444],\n",
       "        [    64, 395641,     25],\n",
       "        [   900,  96721, 281961]])"
      ]
     },
     "execution_count": 47,
     "metadata": {},
     "output_type": "execute_result"
    }
   ],
   "source": [
    "dif@dif\n",
    "dif*dif\n",
    "dif**2\n",
    "np.multiply(dif,dif)"
   ]
  },
  {
   "cell_type": "code",
   "execution_count": 78,
   "metadata": {
    "collapsed": false
   },
   "outputs": [],
   "source": [
    "# A new KNN function:\n",
    "def KNNPredict1(X_train, X_test, Y_train, K):\n",
    "    # find how many rows of X_train\n",
    "    X_train_size = X_train.shape[0]\n",
    "    # X_test is only one row, repeat it X_train_size times and subtract X_train to get the distances between X_test and each data in X_train\n",
    "    distance_matrix = np.tile(X_test,(X_train_size,1))-X_train\n",
    "    # np.multiply() is the element-wise multiplication\n",
    "    sq_distance_matrix = np.multiply(distance_matrix,distance_matrix)\n",
    "    sum_distance_array = sq_distance_matrix.sum(axis=1)\n",
    "    # np.sqrt() is the element-wise square root\n",
    "    distance_array=np.sqrt(sum_distance_array)\n",
    "    # this is the array of the rank from nearest to farest distance\n",
    "    sort_dis_indices = distance_array.argsort()\n",
    "    ClassCount={}\n",
    "    for i in range(K):\n",
    "        VoteClass = Y_train[sort_dis_indices[i]]\n",
    "        ClassCount[VoteClass]=ClassCount.get(VoteClass,0)+1\n",
    "    SortedClassCount = sorted(ClassCount.items(), key=operator.itemgetter(1), reverse=True)\n",
    "    return SortedClassCount[0][0]"
   ]
  },
  {
   "cell_type": "code",
   "execution_count": 76,
   "metadata": {
    "collapsed": false
   },
   "outputs": [],
   "source": [
    "def CalculateScore(X_test, Y_test, K):\n",
    "    predictions1=[]\n",
    "    for x in X_test:\n",
    "        predictions1.append(KNNPredict1(X_train, x, Y_train, K))\n",
    "    return sk.metrics.accuracy_score(Y_test, predictions1)"
   ]
  },
  {
   "cell_type": "code",
   "execution_count": 235,
   "metadata": {
    "collapsed": false
   },
   "outputs": [
    {
     "name": "stdout",
     "output_type": "stream",
     "text": [
      "aaaxoxo loee xoxo\n",
      "aaaxoxo l\n"
     ]
    }
   ],
   "source": []
  },
  {
   "cell_type": "code",
   "execution_count": 81,
   "metadata": {
    "collapsed": false
   },
   "outputs": [
    {
     "data": {
      "text/plain": [
       "[0.97999999999999998,\n",
       " 0.97999999999999998,\n",
       " 0.97999999999999998,\n",
       " 0.97999999999999998,\n",
       " 0.97999999999999998,\n",
       " 1.0,\n",
       " 1.0,\n",
       " 1.0,\n",
       " 1.0,\n",
       " 1.0,\n",
       " 1.0,\n",
       " 1.0,\n",
       " 1.0,\n",
       " 1.0,\n",
       " 1.0,\n",
       " 0.97999999999999998,\n",
       " 1.0,\n",
       " 1.0,\n",
       " 1.0,\n",
       " 0.95999999999999996,\n",
       " 0.95999999999999996,\n",
       " 0.95999999999999996,\n",
       " 0.93999999999999995,\n",
       " 0.93999999999999995,\n",
       " 0.93999999999999995]"
      ]
     },
     "execution_count": 81,
     "metadata": {},
     "output_type": "execute_result"
    }
   ],
   "source": [
    "KScore=[]\n",
    "for K in OddK:\n",
    "    KScore.append(CalculateScore(X_test, Y_test, K))\n",
    "KScore"
   ]
  },
  {
   "cell_type": "code",
   "execution_count": 57,
   "metadata": {
    "collapsed": false
   },
   "outputs": [
    {
     "data": {
      "text/plain": [
       "'ef'"
      ]
     },
     "execution_count": 57,
     "metadata": {},
     "output_type": "execute_result"
    }
   ],
   "source": [
    "dd={'dh':15,'e':8,'g':34,'ef':64,'we':64}\n",
    "dd.items()\n",
    "sorted(dd.items(), key=operator.itemgetter(1), reverse=True)[0][0]"
   ]
  },
  {
   "cell_type": "code",
   "execution_count": null,
   "metadata": {
    "collapsed": false
   },
   "outputs": [],
   "source": []
  },
  {
   "cell_type": "code",
   "execution_count": null,
   "metadata": {
    "collapsed": false
   },
   "outputs": [],
   "source": [
    "# Another Example"
   ]
  },
  {
   "cell_type": "code",
   "execution_count": 328,
   "metadata": {
    "collapsed": false
   },
   "outputs": [],
   "source": [
    "# 1) Parse Data\n",
    "dating = open('/Users/yisongdong/Desktop/MSF&Python/Learning Python/Machine Learning/Data/DatingTestSet.txt')\n",
    "NoOfLines=len(dating.readlines())\n",
    "XStorageMat = np.zeros((NoOfLines,3))\n",
    "YStorageMat = []"
   ]
  },
  {
   "cell_type": "code",
   "execution_count": 329,
   "metadata": {
    "collapsed": false
   },
   "outputs": [],
   "source": [
    "dating = open('/Users/yisongdong/Desktop/MSF&Python/Learning Python/Machine Learning/Data/DatingTestSet.txt')\n",
    "index = 0\n",
    "for line in dating.readlines():\n",
    "    line = line.strip()\n",
    "    ListFromLine = line.split('\\t')\n",
    "    XStorageMat[index] = ListFromLine[0:3]\n",
    "    YStorageMat.append(ListFromLine[-1])\n",
    "    index = index+1"
   ]
  },
  {
   "cell_type": "code",
   "execution_count": 323,
   "metadata": {
    "collapsed": false
   },
   "outputs": [
    {
     "name": "stdout",
     "output_type": "stream",
     "text": [
      "aaaxoxo loee xoxo\n",
      "aaaxoxo l\n"
     ]
    }
   ],
   "source": [
    "# About strip():\n",
    "string = 'aaaxoxo loee xoxo   '\n",
    "print(string.strip())\n",
    "print(string.strip(' xoe'))\n",
    "# Search simultaneously from the head and trailing that if there is any elements in ' xoe', if there is, then delete it until the next element is not in ' xoe' "
   ]
  },
  {
   "cell_type": "code",
   "execution_count": 324,
   "metadata": {
    "collapsed": false
   },
   "outputs": [
    {
     "data": {
      "text/plain": [
       "array([[  4.09200000e+04,   8.32697600e+00,   9.53952000e-01],\n",
       "       [  1.44880000e+04,   7.15346900e+00,   1.67390400e+00],\n",
       "       [  2.60520000e+04,   1.44187100e+00,   8.05124000e-01],\n",
       "       ..., \n",
       "       [  2.65750000e+04,   1.06501020e+01,   8.66627000e-01],\n",
       "       [  4.81110000e+04,   9.13452800e+00,   7.28045000e-01],\n",
       "       [  4.37570000e+04,   7.88260100e+00,   1.33244600e+00]])"
      ]
     },
     "execution_count": 324,
     "metadata": {},
     "output_type": "execute_result"
    }
   ],
   "source": [
    "len(XStorageMat)\n",
    "XStorageMat"
   ]
  },
  {
   "cell_type": "code",
   "execution_count": 239,
   "metadata": {
    "collapsed": false
   },
   "outputs": [
    {
     "data": {
      "text/plain": [
       "array(['largeDoses', 'smallDoses', 'didntLike', 'didntLike', 'didntLike',\n",
       "       'didntLike', 'largeDoses', 'largeDoses', 'didntLike', 'largeDoses',\n",
       "       'didntLike', 'didntLike', 'smallDoses', 'didntLike', 'didntLike',\n",
       "       'didntLike', 'didntLike', 'didntLike', 'smallDoses', 'largeDoses',\n",
       "       'smallDoses', 'didntLike', 'smallDoses', 'largeDoses', 'smallDoses',\n",
       "       'largeDoses', 'smallDoses', 'largeDoses', 'smallDoses', 'didntLike',\n",
       "       'largeDoses', 'didntLike', 'largeDoses', 'didntLike', 'smallDoses',\n",
       "       'didntLike', 'didntLike', 'smallDoses', 'largeDoses', 'largeDoses',\n",
       "       'didntLike', 'smallDoses', 'largeDoses', 'largeDoses', 'largeDoses',\n",
       "       'didntLike', 'didntLike', 'didntLike', 'didntLike', 'smallDoses',\n",
       "       'smallDoses', 'didntLike', 'largeDoses', 'smallDoses', 'smallDoses',\n",
       "       'smallDoses', 'smallDoses', 'largeDoses', 'didntLike', 'smallDoses',\n",
       "       'didntLike', 'smallDoses', 'smallDoses', 'smallDoses', 'smallDoses',\n",
       "       'smallDoses', 'largeDoses', 'smallDoses', 'largeDoses', 'didntLike',\n",
       "       'smallDoses', 'largeDoses', 'smallDoses', 'smallDoses', 'didntLike',\n",
       "       'largeDoses', 'didntLike', 'didntLike', 'largeDoses', 'largeDoses',\n",
       "       'didntLike', 'smallDoses', 'largeDoses', 'didntLike', 'largeDoses',\n",
       "       'didntLike', 'smallDoses', 'smallDoses', 'didntLike', 'didntLike',\n",
       "       'largeDoses', 'largeDoses', 'didntLike', 'smallDoses', 'didntLike',\n",
       "       'largeDoses', 'largeDoses', 'smallDoses', 'didntLike', 'didntLike',\n",
       "       'largeDoses', 'didntLike', 'smallDoses', 'largeDoses', 'largeDoses',\n",
       "       'smallDoses', 'largeDoses', 'largeDoses', 'didntLike', 'smallDoses',\n",
       "       'largeDoses', 'smallDoses', 'didntLike', 'largeDoses', 'didntLike',\n",
       "       'smallDoses', 'didntLike', 'didntLike', 'smallDoses', 'largeDoses',\n",
       "       'smallDoses', 'largeDoses', 'smallDoses', 'largeDoses',\n",
       "       'smallDoses', 'didntLike', 'largeDoses', 'largeDoses', 'largeDoses',\n",
       "       'didntLike', 'largeDoses', 'smallDoses', 'smallDoses', 'largeDoses',\n",
       "       'didntLike', 'largeDoses', 'largeDoses', 'largeDoses', 'didntLike',\n",
       "       'largeDoses', 'didntLike', 'didntLike', 'largeDoses', 'largeDoses',\n",
       "       'smallDoses', 'largeDoses', 'largeDoses', 'didntLike', 'smallDoses',\n",
       "       'largeDoses', 'smallDoses', 'smallDoses', 'largeDoses',\n",
       "       'largeDoses', 'largeDoses', 'didntLike', 'smallDoses', 'smallDoses',\n",
       "       'didntLike', 'didntLike', 'largeDoses', 'smallDoses', 'largeDoses',\n",
       "       'largeDoses', 'didntLike', 'smallDoses', 'didntLike', 'largeDoses',\n",
       "       'didntLike', 'smallDoses', 'largeDoses', 'smallDoses', 'largeDoses',\n",
       "       'didntLike', 'didntLike', 'didntLike', 'largeDoses', 'smallDoses',\n",
       "       'largeDoses', 'didntLike', 'largeDoses', 'smallDoses', 'didntLike',\n",
       "       'largeDoses', 'smallDoses', 'smallDoses', 'largeDoses',\n",
       "       'smallDoses', 'largeDoses', 'smallDoses', 'didntLike', 'didntLike',\n",
       "       'largeDoses', 'didntLike', 'largeDoses', 'smallDoses', 'smallDoses',\n",
       "       'smallDoses', 'largeDoses', 'smallDoses', 'smallDoses', 'didntLike',\n",
       "       'smallDoses', 'smallDoses', 'largeDoses', 'didntLike', 'largeDoses',\n",
       "       'largeDoses', 'smallDoses', 'didntLike', 'didntLike', 'didntLike',\n",
       "       'smallDoses', 'didntLike', 'largeDoses', 'largeDoses', 'largeDoses',\n",
       "       'largeDoses', 'smallDoses', 'didntLike', 'didntLike', 'didntLike',\n",
       "       'smallDoses', 'largeDoses', 'smallDoses', 'didntLike', 'largeDoses',\n",
       "       'didntLike', 'largeDoses', 'smallDoses', 'smallDoses', 'largeDoses',\n",
       "       'didntLike', 'largeDoses', 'didntLike', 'didntLike', 'smallDoses',\n",
       "       'didntLike', 'smallDoses', 'smallDoses', 'didntLike', 'largeDoses',\n",
       "       'didntLike', 'largeDoses', 'smallDoses', 'largeDoses', 'didntLike',\n",
       "       'smallDoses', 'largeDoses', 'didntLike', 'didntLike', 'didntLike',\n",
       "       'didntLike', 'smallDoses', 'largeDoses', 'smallDoses', 'smallDoses',\n",
       "       'largeDoses', 'didntLike', 'smallDoses', 'didntLike', 'didntLike',\n",
       "       'didntLike', 'largeDoses', 'largeDoses', 'smallDoses', 'didntLike',\n",
       "       'didntLike', 'didntLike', 'smallDoses', 'smallDoses', 'largeDoses',\n",
       "       'didntLike', 'didntLike', 'didntLike', 'smallDoses', 'didntLike',\n",
       "       'didntLike', 'smallDoses', 'didntLike', 'didntLike', 'didntLike',\n",
       "       'smallDoses', 'smallDoses', 'largeDoses', 'smallDoses',\n",
       "       'largeDoses', 'largeDoses', 'largeDoses', 'largeDoses', 'didntLike',\n",
       "       'smallDoses', 'largeDoses', 'didntLike', 'didntLike', 'didntLike',\n",
       "       'largeDoses', 'didntLike', 'largeDoses', 'smallDoses', 'smallDoses',\n",
       "       'didntLike', 'largeDoses', 'didntLike', 'largeDoses', 'smallDoses',\n",
       "       'smallDoses', 'didntLike', 'smallDoses', 'smallDoses', 'largeDoses',\n",
       "       'didntLike', 'largeDoses', 'smallDoses', 'didntLike', 'didntLike',\n",
       "       'largeDoses', 'largeDoses', 'smallDoses', 'largeDoses',\n",
       "       'largeDoses', 'smallDoses', 'largeDoses', 'didntLike', 'largeDoses',\n",
       "       'didntLike', 'largeDoses', 'largeDoses', 'didntLike', 'largeDoses',\n",
       "       'smallDoses', 'didntLike', 'largeDoses', 'didntLike', 'largeDoses',\n",
       "       'smallDoses', 'didntLike', 'smallDoses', 'smallDoses', 'didntLike',\n",
       "       'largeDoses', 'didntLike', 'didntLike', 'largeDoses', 'largeDoses',\n",
       "       'smallDoses', 'smallDoses', 'largeDoses', 'didntLike', 'smallDoses',\n",
       "       'largeDoses', 'largeDoses', 'smallDoses', 'smallDoses', 'didntLike',\n",
       "       'didntLike', 'didntLike', 'didntLike', 'largeDoses', 'smallDoses',\n",
       "       'didntLike', 'didntLike', 'largeDoses', 'smallDoses', 'didntLike',\n",
       "       'didntLike', 'largeDoses', 'largeDoses', 'largeDoses', 'smallDoses',\n",
       "       'largeDoses', 'smallDoses', 'didntLike', 'didntLike', 'didntLike',\n",
       "       'didntLike', 'didntLike', 'largeDoses', 'smallDoses', 'smallDoses',\n",
       "       'didntLike', 'smallDoses', 'didntLike', 'largeDoses', 'smallDoses',\n",
       "       'didntLike', 'largeDoses', 'smallDoses', 'didntLike', 'largeDoses',\n",
       "       'didntLike', 'didntLike', 'largeDoses', 'largeDoses', 'largeDoses',\n",
       "       'largeDoses', 'smallDoses', 'didntLike', 'didntLike', 'smallDoses',\n",
       "       'didntLike', 'largeDoses', 'largeDoses', 'smallDoses', 'didntLike',\n",
       "       'smallDoses', 'largeDoses', 'smallDoses', 'didntLike', 'smallDoses',\n",
       "       'smallDoses', 'smallDoses', 'didntLike', 'didntLike', 'largeDoses',\n",
       "       'didntLike', 'didntLike', 'smallDoses', 'largeDoses', 'didntLike',\n",
       "       'didntLike', 'smallDoses', 'largeDoses', 'didntLike', 'largeDoses',\n",
       "       'didntLike', 'didntLike', 'smallDoses', 'smallDoses', 'didntLike',\n",
       "       'smallDoses', 'smallDoses', 'smallDoses', 'largeDoses', 'didntLike',\n",
       "       'didntLike', 'didntLike', 'largeDoses', 'didntLike', 'largeDoses',\n",
       "       'didntLike', 'largeDoses', 'largeDoses', 'didntLike', 'didntLike',\n",
       "       'didntLike', 'largeDoses', 'smallDoses', 'largeDoses', 'largeDoses',\n",
       "       'smallDoses', 'smallDoses', 'didntLike', 'didntLike', 'didntLike',\n",
       "       'smallDoses', 'didntLike', 'smallDoses', 'smallDoses', 'largeDoses',\n",
       "       'largeDoses', 'largeDoses', 'didntLike', 'didntLike', 'largeDoses',\n",
       "       'largeDoses', 'smallDoses', 'largeDoses', 'largeDoses',\n",
       "       'smallDoses', 'largeDoses', 'largeDoses', 'largeDoses',\n",
       "       'smallDoses', 'largeDoses', 'largeDoses', 'didntLike', 'smallDoses',\n",
       "       'largeDoses', 'smallDoses', 'didntLike', 'didntLike', 'didntLike',\n",
       "       'didntLike', 'largeDoses', 'largeDoses', 'largeDoses', 'largeDoses',\n",
       "       'smallDoses', 'didntLike', 'didntLike', 'didntLike', 'didntLike',\n",
       "       'largeDoses', 'didntLike', 'didntLike', 'smallDoses', 'didntLike',\n",
       "       'didntLike', 'smallDoses', 'largeDoses', 'smallDoses', 'didntLike',\n",
       "       'smallDoses', 'smallDoses', 'smallDoses', 'largeDoses',\n",
       "       'smallDoses', 'didntLike', 'largeDoses', 'smallDoses', 'largeDoses',\n",
       "       'smallDoses', 'largeDoses', 'smallDoses', 'didntLike', 'didntLike',\n",
       "       'smallDoses', 'largeDoses', 'didntLike', 'largeDoses', 'largeDoses',\n",
       "       'largeDoses', 'didntLike', 'smallDoses', 'didntLike', 'smallDoses',\n",
       "       'smallDoses', 'didntLike', 'smallDoses', 'smallDoses', 'smallDoses',\n",
       "       'smallDoses', 'smallDoses', 'largeDoses', 'smallDoses', 'didntLike',\n",
       "       'largeDoses', 'largeDoses', 'smallDoses', 'smallDoses',\n",
       "       'smallDoses', 'largeDoses', 'didntLike', 'smallDoses', 'didntLike',\n",
       "       'didntLike', 'largeDoses', 'smallDoses', 'largeDoses', 'smallDoses',\n",
       "       'largeDoses', 'smallDoses', 'largeDoses', 'largeDoses',\n",
       "       'smallDoses', 'smallDoses', 'didntLike', 'largeDoses', 'didntLike',\n",
       "       'smallDoses', 'didntLike', 'largeDoses', 'didntLike', 'didntLike',\n",
       "       'didntLike', 'largeDoses', 'didntLike', 'didntLike', 'largeDoses',\n",
       "       'largeDoses', 'smallDoses', 'smallDoses', 'didntLike', 'largeDoses',\n",
       "       'didntLike', 'didntLike', 'largeDoses', 'smallDoses', 'largeDoses',\n",
       "       'didntLike', 'didntLike', 'largeDoses', 'didntLike', 'largeDoses',\n",
       "       'largeDoses', 'didntLike', 'smallDoses', 'largeDoses', 'didntLike',\n",
       "       'largeDoses', 'didntLike', 'didntLike', 'smallDoses', 'didntLike',\n",
       "       'largeDoses', 'didntLike', 'didntLike', 'didntLike', 'didntLike',\n",
       "       'smallDoses', 'didntLike', 'largeDoses', 'didntLike', 'smallDoses',\n",
       "       'didntLike', 'largeDoses', 'didntLike', 'largeDoses', 'didntLike',\n",
       "       'didntLike', 'smallDoses', 'smallDoses', 'smallDoses', 'largeDoses',\n",
       "       'smallDoses', 'smallDoses', 'didntLike', 'smallDoses', 'largeDoses',\n",
       "       'largeDoses', 'smallDoses', 'largeDoses', 'largeDoses',\n",
       "       'largeDoses', 'smallDoses', 'largeDoses', 'largeDoses', 'didntLike',\n",
       "       'largeDoses', 'smallDoses', 'largeDoses', 'smallDoses', 'didntLike',\n",
       "       'smallDoses', 'didntLike', 'didntLike', 'didntLike', 'smallDoses',\n",
       "       'largeDoses', 'smallDoses', 'smallDoses', 'didntLike', 'smallDoses',\n",
       "       'smallDoses', 'didntLike', 'largeDoses', 'didntLike', 'largeDoses',\n",
       "       'largeDoses', 'largeDoses', 'smallDoses', 'smallDoses',\n",
       "       'largeDoses', 'largeDoses', 'didntLike', 'smallDoses', 'smallDoses',\n",
       "       'smallDoses', 'largeDoses', 'didntLike', 'smallDoses', 'didntLike',\n",
       "       'largeDoses', 'didntLike', 'smallDoses', 'largeDoses', 'didntLike',\n",
       "       'didntLike', 'didntLike', 'smallDoses', 'smallDoses', 'largeDoses',\n",
       "       'didntLike', 'largeDoses', 'didntLike', 'didntLike', 'largeDoses',\n",
       "       'didntLike', 'smallDoses', 'largeDoses', 'didntLike', 'smallDoses',\n",
       "       'largeDoses', 'didntLike', 'smallDoses', 'largeDoses', 'smallDoses',\n",
       "       'smallDoses', 'smallDoses', 'largeDoses', 'didntLike', 'largeDoses',\n",
       "       'didntLike', 'smallDoses', 'largeDoses', 'smallDoses', 'smallDoses',\n",
       "       'largeDoses', 'didntLike', 'smallDoses', 'largeDoses', 'smallDoses',\n",
       "       'largeDoses', 'didntLike', 'smallDoses', 'smallDoses', 'largeDoses',\n",
       "       'didntLike', 'didntLike', 'didntLike', 'smallDoses', 'smallDoses',\n",
       "       'didntLike', 'didntLike', 'smallDoses', 'didntLike', 'smallDoses',\n",
       "       'didntLike', 'smallDoses', 'largeDoses', 'smallDoses', 'didntLike',\n",
       "       'largeDoses', 'largeDoses', 'largeDoses', 'didntLike', 'didntLike',\n",
       "       'largeDoses', 'didntLike', 'smallDoses', 'largeDoses', 'largeDoses',\n",
       "       'smallDoses', 'smallDoses', 'smallDoses', 'didntLike', 'smallDoses',\n",
       "       'largeDoses', 'smallDoses', 'smallDoses', 'largeDoses',\n",
       "       'smallDoses', 'smallDoses', 'smallDoses', 'largeDoses',\n",
       "       'largeDoses', 'smallDoses', 'didntLike', 'largeDoses', 'smallDoses',\n",
       "       'didntLike', 'largeDoses', 'largeDoses', 'didntLike', 'smallDoses',\n",
       "       'largeDoses', 'smallDoses', 'didntLike', 'largeDoses', 'largeDoses',\n",
       "       'largeDoses', 'didntLike', 'smallDoses', 'smallDoses', 'smallDoses',\n",
       "       'largeDoses', 'smallDoses', 'largeDoses', 'largeDoses', 'didntLike',\n",
       "       'smallDoses', 'didntLike', 'didntLike', 'smallDoses', 'didntLike',\n",
       "       'largeDoses', 'didntLike', 'smallDoses', 'smallDoses', 'didntLike',\n",
       "       'largeDoses', 'smallDoses', 'didntLike', 'largeDoses', 'largeDoses',\n",
       "       'smallDoses', 'smallDoses', 'smallDoses', 'didntLike', 'smallDoses',\n",
       "       'smallDoses', 'didntLike', 'largeDoses', 'didntLike', 'largeDoses',\n",
       "       'didntLike', 'largeDoses', 'largeDoses', 'didntLike', 'didntLike',\n",
       "       'smallDoses', 'largeDoses', 'smallDoses', 'smallDoses',\n",
       "       'largeDoses', 'didntLike', 'didntLike', 'didntLike', 'didntLike',\n",
       "       'largeDoses', 'smallDoses', 'smallDoses', 'didntLike', 'largeDoses',\n",
       "       'didntLike', 'smallDoses', 'largeDoses', 'didntLike', 'largeDoses',\n",
       "       'didntLike', 'largeDoses', 'didntLike', 'didntLike', 'largeDoses',\n",
       "       'smallDoses', 'largeDoses', 'didntLike', 'didntLike', 'largeDoses',\n",
       "       'largeDoses', 'largeDoses', 'largeDoses', 'didntLike', 'largeDoses',\n",
       "       'smallDoses', 'smallDoses', 'didntLike', 'didntLike', 'largeDoses',\n",
       "       'largeDoses', 'smallDoses', 'smallDoses', 'smallDoses', 'didntLike',\n",
       "       'smallDoses', 'didntLike', 'smallDoses', 'didntLike', 'largeDoses',\n",
       "       'smallDoses', 'didntLike', 'smallDoses', 'smallDoses', 'largeDoses',\n",
       "       'didntLike', 'smallDoses', 'smallDoses', 'smallDoses', 'largeDoses',\n",
       "       'smallDoses', 'didntLike', 'smallDoses', 'didntLike', 'smallDoses',\n",
       "       'largeDoses', 'largeDoses', 'smallDoses', 'largeDoses', 'didntLike',\n",
       "       'didntLike', 'largeDoses', 'largeDoses', 'didntLike', 'smallDoses',\n",
       "       'smallDoses', 'smallDoses', 'smallDoses', 'smallDoses',\n",
       "       'smallDoses', 'didntLike', 'largeDoses', 'largeDoses', 'largeDoses',\n",
       "       'largeDoses', 'largeDoses', 'didntLike', 'didntLike', 'largeDoses',\n",
       "       'smallDoses', 'didntLike', 'smallDoses', 'didntLike', 'smallDoses',\n",
       "       'smallDoses', 'largeDoses', 'smallDoses', 'smallDoses',\n",
       "       'smallDoses', 'largeDoses', 'didntLike', 'smallDoses', 'didntLike',\n",
       "       'smallDoses', 'smallDoses', 'didntLike', 'didntLike', 'smallDoses',\n",
       "       'largeDoses', 'largeDoses', 'didntLike', 'didntLike', 'didntLike',\n",
       "       'didntLike', 'largeDoses', 'largeDoses', 'largeDoses', 'largeDoses',\n",
       "       'largeDoses', 'largeDoses', 'didntLike', 'largeDoses', 'largeDoses',\n",
       "       'smallDoses', 'largeDoses', 'smallDoses', 'largeDoses',\n",
       "       'largeDoses', 'smallDoses', 'smallDoses', 'didntLike', 'didntLike',\n",
       "       'didntLike', 'largeDoses', 'largeDoses', 'didntLike', 'didntLike',\n",
       "       'didntLike', 'largeDoses', 'largeDoses', 'smallDoses', 'didntLike',\n",
       "       'smallDoses', 'didntLike', 'didntLike', 'smallDoses', 'smallDoses',\n",
       "       'didntLike', 'didntLike', 'didntLike', 'largeDoses', 'didntLike',\n",
       "       'didntLike', 'smallDoses', 'largeDoses', 'smallDoses', 'smallDoses',\n",
       "       'didntLike', 'largeDoses', 'didntLike', 'smallDoses', 'largeDoses',\n",
       "       'didntLike', 'smallDoses', 'smallDoses', 'smallDoses', 'smallDoses',\n",
       "       'largeDoses', 'smallDoses', 'largeDoses', 'largeDoses', 'didntLike',\n",
       "       'smallDoses', 'didntLike', 'smallDoses', 'largeDoses', 'didntLike',\n",
       "       'largeDoses', 'smallDoses', 'smallDoses', 'smallDoses',\n",
       "       'smallDoses', 'smallDoses', 'smallDoses', 'smallDoses',\n",
       "       'smallDoses', 'smallDoses', 'smallDoses', 'smallDoses',\n",
       "       'smallDoses', 'largeDoses', 'smallDoses', 'smallDoses',\n",
       "       'smallDoses', 'smallDoses', 'smallDoses', 'didntLike', 'largeDoses',\n",
       "       'largeDoses', 'largeDoses'], \n",
       "      dtype='<U10')"
      ]
     },
     "execution_count": 239,
     "metadata": {},
     "output_type": "execute_result"
    }
   ],
   "source": [
    "YStorageMat = np.array(YStorageMat)\n",
    "len(YStorageMat.T)\n",
    "YStorageMat"
   ]
  },
  {
   "cell_type": "code",
   "execution_count": 273,
   "metadata": {
    "collapsed": false
   },
   "outputs": [
    {
     "data": {
      "text/plain": [
       "array([['40920.0', '8.326976', '0.953952', 'largeDoses'],\n",
       "       ['14488.0', '7.153469', '1.673904', 'smallDoses'],\n",
       "       ['26052.0', '1.441871', '0.805124', 'didntLike'],\n",
       "       ..., \n",
       "       ['26575.0', '10.650102', '0.866627', 'largeDoses'],\n",
       "       ['48111.0', '9.134528', '0.728045', 'largeDoses'],\n",
       "       ['43757.0', '7.882601', '1.332446', 'largeDoses']], \n",
       "      dtype='<U32')"
      ]
     },
     "execution_count": 273,
     "metadata": {},
     "output_type": "execute_result"
    }
   ],
   "source": [
    "total_data = np.concatenate((XStorageMat, YStorageMat[:,None]), axis=1)\n",
    "# np.concatenate() function can merge arrays/matrix\n",
    "# We need to extend the second array into 2-dimension when use np.concatenate(), that's why we write YStorageMat[:,None]\n",
    "\n",
    "for i in range(len(total_data[:,3])):\n",
    "    if total_data[i,3]=='largeDoses':\n",
    "        total_data[i,3]='red'\n",
    "    elif total_data[i,3]=='smallDoses':\n",
    "        total_data[i,3]='blue'\n",
    "    else:\n",
    "        total_data[i,3]='yellow'\n",
    "\n",
    "total_data"
   ]
  },
  {
   "cell_type": "code",
   "execution_count": 279,
   "metadata": {
    "collapsed": false
   },
   "outputs": [
    {
     "data": {
      "image/png": "[encoded data removed]",
      "text/plain": [
       "<matplotlib.figure.Figure at 0x11fa9f748>"
      ]
     },
     "metadata": {},
     "output_type": "display_data"
    }
   ],
   "source": [
    "figNew, axNew = plt.subplots()\n",
    "axNew.scatter(total_data[total_data[:,3]=='largeDoses',1], total_data[total_data[:,3]=='largeDoses',2], c='red', label='largeDoses')\n",
    "axNew.scatter(total_data[total_data[:,3]=='smallDoses',1], total_data[total_data[:,3]=='smallDoses',2], c='blue', label='smallDoses')\n",
    "axNew.scatter(total_data[total_data[:,3]=='didntLike',1], total_data[total_data[:,3]=='didntLike',2], c='yellow', label='didntLike')\n",
    "axNew.legend()\n",
    "plt.show()"
   ]
  },
  {
   "cell_type": "code",
   "execution_count": 330,
   "metadata": {
    "collapsed": false
   },
   "outputs": [],
   "source": [
    "# Rescale the first column number, flyer miles, which is too large:\n",
    "MinMile = min(XStorageMat[:,0])\n",
    "MaxMile = max(XStorageMat[:,0])\n",
    "XStorageMatRescale = XStorageMat\n",
    "XStorageMatRescale[:,0]=np.divide(np.subtract(XStorageMat[:,0],MinMile),MaxMile-MinMile)\n"
   ]
  },
  {
   "cell_type": "code",
   "execution_count": 331,
   "metadata": {
    "collapsed": false
   },
   "outputs": [
    {
     "data": {
      "text/plain": [
       "array([[  0.44832535,   8.326976  ,   0.953952  ],\n",
       "       [  0.15873259,   7.153469  ,   1.673904  ],\n",
       "       [  0.28542943,   1.441871  ,   0.805124  ],\n",
       "       ..., \n",
       "       [  0.29115949,  10.650102  ,   0.866627  ],\n",
       "       [  0.52711097,   9.134528  ,   0.728045  ],\n",
       "       [  0.47940793,   7.882601  ,   1.332446  ]])"
      ]
     },
     "execution_count": 331,
     "metadata": {},
     "output_type": "execute_result"
    }
   ],
   "source": [
    "XStorageMatRescale"
   ]
  },
  {
   "cell_type": "code",
   "execution_count": 341,
   "metadata": {
    "collapsed": false
   },
   "outputs": [],
   "source": [
    "X_train, X_test, Y_train, Y_test = skc.train_test_split(XStorageMatRescale, YStorageMat, test_size=0.33, random_state=111)"
   ]
  },
  {
   "cell_type": "code",
   "execution_count": null,
   "metadata": {
    "collapsed": false
   },
   "outputs": [],
   "source": []
  },
  {
   "cell_type": "code",
   "execution_count": null,
   "metadata": {
    "collapsed": false
   },
   "outputs": [],
   "source": [
    "kd = range(0,50)\n",
    "for kdi in k[::2]:\n",
    "    KNNPredict1(Xd_train, Xd_test, Yd_train, kdi)"
   ]
  },
  {
   "cell_type": "code",
   "execution_count": 340,
   "metadata": {
    "collapsed": false
   },
   "outputs": [
    {
     "name": "stdout",
     "output_type": "stream",
     "text": [
      "1\n",
      "3\n",
      "5\n",
      "7\n",
      "9\n",
      "11\n",
      "13\n",
      "15\n",
      "17\n",
      "19\n",
      "21\n",
      "23\n",
      "25\n",
      "27\n",
      "29\n",
      "31\n",
      "33\n",
      "35\n",
      "37\n",
      "39\n",
      "41\n",
      "43\n",
      "45\n",
      "47\n",
      "49\n"
     ]
    }
   ],
   "source": [
    "k=range(0,50)\n",
    "for i in k[1::2]:\n",
    "    print(i)"
   ]
  },
  {
   "cell_type": "code",
   "execution_count": null,
   "metadata": {
    "collapsed": true
   },
   "outputs": [],
   "source": []
  }
 ],
 "metadata": {
  "kernelspec": {
   "display_name": "Python 3",
   "language": "python",
   "name": "python3"
  },
  "language_info": {
   "codemirror_mode": {
    "name": "ipython",
    "version": 3
   },
   "file_extension": ".py",
   "mimetype": "text/x-python",
   "name": "python",
   "nbconvert_exporter": "python",
   "pygments_lexer": "ipython3",
   "version": "3.6.0"
  }
 },
 "nbformat": 4,
 "nbformat_minor": 2
}
